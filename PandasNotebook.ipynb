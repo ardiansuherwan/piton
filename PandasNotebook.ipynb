{
 "cells": [
  {
   "cell_type": "markdown",
   "metadata": {},
   "source": [
    "# Pandas powerful Python data analysis toolkit\n",
    "\n",
    "## 10 minutes to pandas\n",
    "### this is a short introduction to pandas, geared mainly for new users. You can see more complex recipes in the \n",
    "https://pandas.pydata.org/pandas-docs/stable/user_guide/cookbook.html#cookbook"
   ]
  },
  {
   "cell_type": "code",
   "execution_count": 4,
   "metadata": {},
   "outputs": [],
   "source": [
    "import numpy as np\n",
    "import pandas as pd"
   ]
  },
  {
   "cell_type": "markdown",
   "metadata": {},
   "source": [
    "## Object creation\n",
    "Creating a Series by passing a list of values, letting pandas create a default integer index"
   ]
  },
  {
   "cell_type": "code",
   "execution_count": 2,
   "metadata": {},
   "outputs": [
    {
     "data": {
      "text/plain": [
       "0    1.0\n",
       "1    3.0\n",
       "2    5.0\n",
       "3    NaN\n",
       "4    6.0\n",
       "5    8.0\n",
       "dtype: float64"
      ]
     },
     "execution_count": 2,
     "metadata": {},
     "output_type": "execute_result"
    }
   ],
   "source": [
    "s = pd.Series([1, 3, 5, np.nan, 6, 8])\n",
    "s"
   ]
  },
  {
   "cell_type": "markdown",
   "metadata": {},
   "source": [
    "Creating a DataFrame by passing a NumPy array, with a datetime index and labeled columns "
   ]
  },
  {
   "cell_type": "code",
   "execution_count": 3,
   "metadata": {},
   "outputs": [
    {
     "data": {
      "text/plain": [
       "DatetimeIndex(['2013-01-01', '2013-01-02', '2013-01-03', '2013-01-04',\n",
       "               '2013-01-05', '2013-01-06'],\n",
       "              dtype='datetime64[ns]', freq='D')"
      ]
     },
     "execution_count": 3,
     "metadata": {},
     "output_type": "execute_result"
    }
   ],
   "source": [
    "dates = pd.date_range('20130101', periods=6)\n",
    "dates"
   ]
  },
  {
   "cell_type": "code",
   "execution_count": 5,
   "metadata": {},
   "outputs": [
    {
     "data": {
      "text/html": [
       "<div>\n",
       "<style scoped>\n",
       "    .dataframe tbody tr th:only-of-type {\n",
       "        vertical-align: middle;\n",
       "    }\n",
       "\n",
       "    .dataframe tbody tr th {\n",
       "        vertical-align: top;\n",
       "    }\n",
       "\n",
       "    .dataframe thead th {\n",
       "        text-align: right;\n",
       "    }\n",
       "</style>\n",
       "<table border=\"1\" class=\"dataframe\">\n",
       "  <thead>\n",
       "    <tr style=\"text-align: right;\">\n",
       "      <th></th>\n",
       "      <th>A</th>\n",
       "      <th>B</th>\n",
       "      <th>C</th>\n",
       "      <th>D</th>\n",
       "    </tr>\n",
       "  </thead>\n",
       "  <tbody>\n",
       "    <tr>\n",
       "      <td>2013-01-01</td>\n",
       "      <td>-0.192914</td>\n",
       "      <td>0.959854</td>\n",
       "      <td>1.268042</td>\n",
       "      <td>1.796079</td>\n",
       "    </tr>\n",
       "    <tr>\n",
       "      <td>2013-01-02</td>\n",
       "      <td>-0.213068</td>\n",
       "      <td>1.591035</td>\n",
       "      <td>0.635077</td>\n",
       "      <td>-0.404746</td>\n",
       "    </tr>\n",
       "    <tr>\n",
       "      <td>2013-01-03</td>\n",
       "      <td>1.035954</td>\n",
       "      <td>-0.469996</td>\n",
       "      <td>-0.029455</td>\n",
       "      <td>-0.871430</td>\n",
       "    </tr>\n",
       "    <tr>\n",
       "      <td>2013-01-04</td>\n",
       "      <td>0.415059</td>\n",
       "      <td>0.385848</td>\n",
       "      <td>1.747248</td>\n",
       "      <td>0.336623</td>\n",
       "    </tr>\n",
       "    <tr>\n",
       "      <td>2013-01-05</td>\n",
       "      <td>0.608917</td>\n",
       "      <td>-0.320133</td>\n",
       "      <td>-0.074571</td>\n",
       "      <td>-1.131054</td>\n",
       "    </tr>\n",
       "    <tr>\n",
       "      <td>2013-01-06</td>\n",
       "      <td>0.275156</td>\n",
       "      <td>-1.421548</td>\n",
       "      <td>0.805026</td>\n",
       "      <td>0.076590</td>\n",
       "    </tr>\n",
       "  </tbody>\n",
       "</table>\n",
       "</div>"
      ],
      "text/plain": [
       "                   A         B         C         D\n",
       "2013-01-01 -0.192914  0.959854  1.268042  1.796079\n",
       "2013-01-02 -0.213068  1.591035  0.635077 -0.404746\n",
       "2013-01-03  1.035954 -0.469996 -0.029455 -0.871430\n",
       "2013-01-04  0.415059  0.385848  1.747248  0.336623\n",
       "2013-01-05  0.608917 -0.320133 -0.074571 -1.131054\n",
       "2013-01-06  0.275156 -1.421548  0.805026  0.076590"
      ]
     },
     "execution_count": 5,
     "metadata": {},
     "output_type": "execute_result"
    }
   ],
   "source": [
    "df = pd.DataFrame(np.random.randn(6, 4), index=dates, columns = list('ABCD'))\n",
    "df"
   ]
  },
  {
   "cell_type": "markdown",
   "metadata": {},
   "source": [
    "Creating a DataFrame by passing a dict of objects that can be converted to series-like"
   ]
  },
  {
   "cell_type": "code",
   "execution_count": 8,
   "metadata": {},
   "outputs": [
    {
     "data": {
      "text/html": [
       "<div>\n",
       "<style scoped>\n",
       "    .dataframe tbody tr th:only-of-type {\n",
       "        vertical-align: middle;\n",
       "    }\n",
       "\n",
       "    .dataframe tbody tr th {\n",
       "        vertical-align: top;\n",
       "    }\n",
       "\n",
       "    .dataframe thead th {\n",
       "        text-align: right;\n",
       "    }\n",
       "</style>\n",
       "<table border=\"1\" class=\"dataframe\">\n",
       "  <thead>\n",
       "    <tr style=\"text-align: right;\">\n",
       "      <th></th>\n",
       "      <th>A</th>\n",
       "      <th>B</th>\n",
       "      <th>C</th>\n",
       "      <th>D</th>\n",
       "      <th>E</th>\n",
       "      <th>F</th>\n",
       "    </tr>\n",
       "  </thead>\n",
       "  <tbody>\n",
       "    <tr>\n",
       "      <td>0</td>\n",
       "      <td>1.0</td>\n",
       "      <td>2013-01-02</td>\n",
       "      <td>1.0</td>\n",
       "      <td>2</td>\n",
       "      <td>test</td>\n",
       "      <td>foo</td>\n",
       "    </tr>\n",
       "    <tr>\n",
       "      <td>1</td>\n",
       "      <td>1.0</td>\n",
       "      <td>2013-01-02</td>\n",
       "      <td>1.0</td>\n",
       "      <td>2</td>\n",
       "      <td>train</td>\n",
       "      <td>foo</td>\n",
       "    </tr>\n",
       "    <tr>\n",
       "      <td>2</td>\n",
       "      <td>1.0</td>\n",
       "      <td>2013-01-02</td>\n",
       "      <td>1.0</td>\n",
       "      <td>2</td>\n",
       "      <td>test</td>\n",
       "      <td>foo</td>\n",
       "    </tr>\n",
       "    <tr>\n",
       "      <td>3</td>\n",
       "      <td>1.0</td>\n",
       "      <td>2013-01-02</td>\n",
       "      <td>1.0</td>\n",
       "      <td>2</td>\n",
       "      <td>train</td>\n",
       "      <td>foo</td>\n",
       "    </tr>\n",
       "  </tbody>\n",
       "</table>\n",
       "</div>"
      ],
      "text/plain": [
       "     A          B    C  D      E    F\n",
       "0  1.0 2013-01-02  1.0  2   test  foo\n",
       "1  1.0 2013-01-02  1.0  2  train  foo\n",
       "2  1.0 2013-01-02  1.0  2   test  foo\n",
       "3  1.0 2013-01-02  1.0  2  train  foo"
      ]
     },
     "execution_count": 8,
     "metadata": {},
     "output_type": "execute_result"
    }
   ],
   "source": [
    "df2 = pd.DataFrame({'A':1.,\n",
    "                    'B': pd.Timestamp('20130102'),\n",
    "                    'C': pd.Series(1, index=list(range(4)), dtype='float32'),\n",
    "                    'D': np.array([2] * 4, dtype='int32'),\n",
    "                   'E': pd.Categorical([\"test\", \"train\", \"test\", \"train\"]),\n",
    "                   'F': 'foo'})\n",
    "df2"
   ]
  },
  {
   "cell_type": "markdown",
   "metadata": {},
   "source": [
    "The columns of the resulting DataFrame have different dtypes"
   ]
  },
  {
   "cell_type": "code",
   "execution_count": 9,
   "metadata": {},
   "outputs": [
    {
     "data": {
      "text/plain": [
       "A           float64\n",
       "B    datetime64[ns]\n",
       "C           float32\n",
       "D             int32\n",
       "E          category\n",
       "F            object\n",
       "dtype: object"
      ]
     },
     "execution_count": 9,
     "metadata": {},
     "output_type": "execute_result"
    }
   ],
   "source": [
    "df2.dtypes"
   ]
  },
  {
   "cell_type": "markdown",
   "metadata": {},
   "source": [
    "## Viewing data\n",
    "Here is how to view the top and bottom rows of the frame"
   ]
  },
  {
   "cell_type": "code",
   "execution_count": 10,
   "metadata": {},
   "outputs": [
    {
     "data": {
      "text/html": [
       "<div>\n",
       "<style scoped>\n",
       "    .dataframe tbody tr th:only-of-type {\n",
       "        vertical-align: middle;\n",
       "    }\n",
       "\n",
       "    .dataframe tbody tr th {\n",
       "        vertical-align: top;\n",
       "    }\n",
       "\n",
       "    .dataframe thead th {\n",
       "        text-align: right;\n",
       "    }\n",
       "</style>\n",
       "<table border=\"1\" class=\"dataframe\">\n",
       "  <thead>\n",
       "    <tr style=\"text-align: right;\">\n",
       "      <th></th>\n",
       "      <th>A</th>\n",
       "      <th>B</th>\n",
       "      <th>C</th>\n",
       "      <th>D</th>\n",
       "    </tr>\n",
       "  </thead>\n",
       "  <tbody>\n",
       "    <tr>\n",
       "      <td>2013-01-01</td>\n",
       "      <td>-0.192914</td>\n",
       "      <td>0.959854</td>\n",
       "      <td>1.268042</td>\n",
       "      <td>1.796079</td>\n",
       "    </tr>\n",
       "    <tr>\n",
       "      <td>2013-01-02</td>\n",
       "      <td>-0.213068</td>\n",
       "      <td>1.591035</td>\n",
       "      <td>0.635077</td>\n",
       "      <td>-0.404746</td>\n",
       "    </tr>\n",
       "    <tr>\n",
       "      <td>2013-01-03</td>\n",
       "      <td>1.035954</td>\n",
       "      <td>-0.469996</td>\n",
       "      <td>-0.029455</td>\n",
       "      <td>-0.871430</td>\n",
       "    </tr>\n",
       "    <tr>\n",
       "      <td>2013-01-04</td>\n",
       "      <td>0.415059</td>\n",
       "      <td>0.385848</td>\n",
       "      <td>1.747248</td>\n",
       "      <td>0.336623</td>\n",
       "    </tr>\n",
       "    <tr>\n",
       "      <td>2013-01-05</td>\n",
       "      <td>0.608917</td>\n",
       "      <td>-0.320133</td>\n",
       "      <td>-0.074571</td>\n",
       "      <td>-1.131054</td>\n",
       "    </tr>\n",
       "  </tbody>\n",
       "</table>\n",
       "</div>"
      ],
      "text/plain": [
       "                   A         B         C         D\n",
       "2013-01-01 -0.192914  0.959854  1.268042  1.796079\n",
       "2013-01-02 -0.213068  1.591035  0.635077 -0.404746\n",
       "2013-01-03  1.035954 -0.469996 -0.029455 -0.871430\n",
       "2013-01-04  0.415059  0.385848  1.747248  0.336623\n",
       "2013-01-05  0.608917 -0.320133 -0.074571 -1.131054"
      ]
     },
     "execution_count": 10,
     "metadata": {},
     "output_type": "execute_result"
    }
   ],
   "source": [
    "df.head()"
   ]
  },
  {
   "cell_type": "code",
   "execution_count": 11,
   "metadata": {},
   "outputs": [
    {
     "data": {
      "text/html": [
       "<div>\n",
       "<style scoped>\n",
       "    .dataframe tbody tr th:only-of-type {\n",
       "        vertical-align: middle;\n",
       "    }\n",
       "\n",
       "    .dataframe tbody tr th {\n",
       "        vertical-align: top;\n",
       "    }\n",
       "\n",
       "    .dataframe thead th {\n",
       "        text-align: right;\n",
       "    }\n",
       "</style>\n",
       "<table border=\"1\" class=\"dataframe\">\n",
       "  <thead>\n",
       "    <tr style=\"text-align: right;\">\n",
       "      <th></th>\n",
       "      <th>A</th>\n",
       "      <th>B</th>\n",
       "      <th>C</th>\n",
       "      <th>D</th>\n",
       "    </tr>\n",
       "  </thead>\n",
       "  <tbody>\n",
       "    <tr>\n",
       "      <td>2013-01-04</td>\n",
       "      <td>0.415059</td>\n",
       "      <td>0.385848</td>\n",
       "      <td>1.747248</td>\n",
       "      <td>0.336623</td>\n",
       "    </tr>\n",
       "    <tr>\n",
       "      <td>2013-01-05</td>\n",
       "      <td>0.608917</td>\n",
       "      <td>-0.320133</td>\n",
       "      <td>-0.074571</td>\n",
       "      <td>-1.131054</td>\n",
       "    </tr>\n",
       "    <tr>\n",
       "      <td>2013-01-06</td>\n",
       "      <td>0.275156</td>\n",
       "      <td>-1.421548</td>\n",
       "      <td>0.805026</td>\n",
       "      <td>0.076590</td>\n",
       "    </tr>\n",
       "  </tbody>\n",
       "</table>\n",
       "</div>"
      ],
      "text/plain": [
       "                   A         B         C         D\n",
       "2013-01-04  0.415059  0.385848  1.747248  0.336623\n",
       "2013-01-05  0.608917 -0.320133 -0.074571 -1.131054\n",
       "2013-01-06  0.275156 -1.421548  0.805026  0.076590"
      ]
     },
     "execution_count": 11,
     "metadata": {},
     "output_type": "execute_result"
    }
   ],
   "source": [
    "df.tail(3)"
   ]
  },
  {
   "cell_type": "markdown",
   "metadata": {},
   "source": [
    "Display the index, columns"
   ]
  },
  {
   "cell_type": "code",
   "execution_count": 12,
   "metadata": {},
   "outputs": [
    {
     "data": {
      "text/plain": [
       "DatetimeIndex(['2013-01-01', '2013-01-02', '2013-01-03', '2013-01-04',\n",
       "               '2013-01-05', '2013-01-06'],\n",
       "              dtype='datetime64[ns]', freq='D')"
      ]
     },
     "execution_count": 12,
     "metadata": {},
     "output_type": "execute_result"
    }
   ],
   "source": [
    "df.index"
   ]
  },
  {
   "cell_type": "code",
   "execution_count": 13,
   "metadata": {},
   "outputs": [
    {
     "data": {
      "text/plain": [
       "Index(['A', 'B', 'C', 'D'], dtype='object')"
      ]
     },
     "execution_count": 13,
     "metadata": {},
     "output_type": "execute_result"
    }
   ],
   "source": [
    "df.columns"
   ]
  },
  {
   "cell_type": "markdown",
   "metadata": {},
   "source": [
    "DataFrame.to_numpy() gives a NumPy representation of the underlying data. Note that this can be an expensive operation when your DataFrame has columns with different data tyes, which comes down to a fundamental difference between pandas and NumPy: *NumPy arrays have one dtype for the entire array, while pandas DataFrames have one dtype per column*. When you call DataFrame.to_numpy(), pandas will find the NumPy dtype that can hold all of the dtypes in the DataFrame. This may end up being object, which requires casting every value to Python Object.\n",
    "\n",
    "For df, out DataFrame of all floating-point values, DataFrame.to_numpy() is fast and doesn't require copying data"
   ]
  },
  {
   "cell_type": "code",
   "execution_count": 14,
   "metadata": {},
   "outputs": [
    {
     "data": {
      "text/plain": [
       "array([[-0.19291402,  0.95985404,  1.26804187,  1.79607871],\n",
       "       [-0.21306846,  1.59103474,  0.63507684, -0.40474633],\n",
       "       [ 1.03595401, -0.46999647, -0.02945484, -0.87142953],\n",
       "       [ 0.41505874,  0.38584831,  1.74724805,  0.33662307],\n",
       "       [ 0.60891713, -0.3201331 , -0.07457085, -1.13105354],\n",
       "       [ 0.27515645, -1.42154838,  0.80502609,  0.07658967]])"
      ]
     },
     "execution_count": 14,
     "metadata": {},
     "output_type": "execute_result"
    }
   ],
   "source": [
    "df.to_numpy()"
   ]
  },
  {
   "cell_type": "markdown",
   "metadata": {},
   "source": [
    "For df2, the DataFrame with multiple dtypes, DataFrame.tonumpy is relatively expensive"
   ]
  },
  {
   "cell_type": "code",
   "execution_count": 15,
   "metadata": {},
   "outputs": [
    {
     "data": {
      "text/plain": [
       "array([[1.0, Timestamp('2013-01-02 00:00:00'), 1.0, 2, 'test', 'foo'],\n",
       "       [1.0, Timestamp('2013-01-02 00:00:00'), 1.0, 2, 'train', 'foo'],\n",
       "       [1.0, Timestamp('2013-01-02 00:00:00'), 1.0, 2, 'test', 'foo'],\n",
       "       [1.0, Timestamp('2013-01-02 00:00:00'), 1.0, 2, 'train', 'foo']],\n",
       "      dtype=object)"
      ]
     },
     "execution_count": 15,
     "metadata": {},
     "output_type": "execute_result"
    }
   ],
   "source": [
    "df2.to_numpy()"
   ]
  },
  {
   "cell_type": "markdown",
   "metadata": {},
   "source": [
    "-NOTE-\n",
    "DataFrame.to_numpy() does not include the index or column labels in the output.\n",
    "\n",
    "describe() shows a quick statistic summary of your data"
   ]
  },
  {
   "cell_type": "code",
   "execution_count": 16,
   "metadata": {},
   "outputs": [
    {
     "data": {
      "text/html": [
       "<div>\n",
       "<style scoped>\n",
       "    .dataframe tbody tr th:only-of-type {\n",
       "        vertical-align: middle;\n",
       "    }\n",
       "\n",
       "    .dataframe tbody tr th {\n",
       "        vertical-align: top;\n",
       "    }\n",
       "\n",
       "    .dataframe thead th {\n",
       "        text-align: right;\n",
       "    }\n",
       "</style>\n",
       "<table border=\"1\" class=\"dataframe\">\n",
       "  <thead>\n",
       "    <tr style=\"text-align: right;\">\n",
       "      <th></th>\n",
       "      <th>A</th>\n",
       "      <th>B</th>\n",
       "      <th>C</th>\n",
       "      <th>D</th>\n",
       "    </tr>\n",
       "  </thead>\n",
       "  <tbody>\n",
       "    <tr>\n",
       "      <td>count</td>\n",
       "      <td>6.000000</td>\n",
       "      <td>6.000000</td>\n",
       "      <td>6.000000</td>\n",
       "      <td>6.000000</td>\n",
       "    </tr>\n",
       "    <tr>\n",
       "      <td>mean</td>\n",
       "      <td>0.321517</td>\n",
       "      <td>0.120843</td>\n",
       "      <td>0.725228</td>\n",
       "      <td>-0.032990</td>\n",
       "    </tr>\n",
       "    <tr>\n",
       "      <td>std</td>\n",
       "      <td>0.480487</td>\n",
       "      <td>1.082419</td>\n",
       "      <td>0.715946</td>\n",
       "      <td>1.052715</td>\n",
       "    </tr>\n",
       "    <tr>\n",
       "      <td>min</td>\n",
       "      <td>-0.213068</td>\n",
       "      <td>-1.421548</td>\n",
       "      <td>-0.074571</td>\n",
       "      <td>-1.131054</td>\n",
       "    </tr>\n",
       "    <tr>\n",
       "      <td>25%</td>\n",
       "      <td>-0.075896</td>\n",
       "      <td>-0.432531</td>\n",
       "      <td>0.136678</td>\n",
       "      <td>-0.754759</td>\n",
       "    </tr>\n",
       "    <tr>\n",
       "      <td>50%</td>\n",
       "      <td>0.345108</td>\n",
       "      <td>0.032858</td>\n",
       "      <td>0.720051</td>\n",
       "      <td>-0.164078</td>\n",
       "    </tr>\n",
       "    <tr>\n",
       "      <td>75%</td>\n",
       "      <td>0.560453</td>\n",
       "      <td>0.816353</td>\n",
       "      <td>1.152288</td>\n",
       "      <td>0.271615</td>\n",
       "    </tr>\n",
       "    <tr>\n",
       "      <td>max</td>\n",
       "      <td>1.035954</td>\n",
       "      <td>1.591035</td>\n",
       "      <td>1.747248</td>\n",
       "      <td>1.796079</td>\n",
       "    </tr>\n",
       "  </tbody>\n",
       "</table>\n",
       "</div>"
      ],
      "text/plain": [
       "              A         B         C         D\n",
       "count  6.000000  6.000000  6.000000  6.000000\n",
       "mean   0.321517  0.120843  0.725228 -0.032990\n",
       "std    0.480487  1.082419  0.715946  1.052715\n",
       "min   -0.213068 -1.421548 -0.074571 -1.131054\n",
       "25%   -0.075896 -0.432531  0.136678 -0.754759\n",
       "50%    0.345108  0.032858  0.720051 -0.164078\n",
       "75%    0.560453  0.816353  1.152288  0.271615\n",
       "max    1.035954  1.591035  1.747248  1.796079"
      ]
     },
     "execution_count": 16,
     "metadata": {},
     "output_type": "execute_result"
    }
   ],
   "source": [
    "df.describe()"
   ]
  },
  {
   "cell_type": "markdown",
   "metadata": {},
   "source": [
    "Transposing your data"
   ]
  },
  {
   "cell_type": "code",
   "execution_count": 17,
   "metadata": {},
   "outputs": [
    {
     "data": {
      "text/html": [
       "<div>\n",
       "<style scoped>\n",
       "    .dataframe tbody tr th:only-of-type {\n",
       "        vertical-align: middle;\n",
       "    }\n",
       "\n",
       "    .dataframe tbody tr th {\n",
       "        vertical-align: top;\n",
       "    }\n",
       "\n",
       "    .dataframe thead th {\n",
       "        text-align: right;\n",
       "    }\n",
       "</style>\n",
       "<table border=\"1\" class=\"dataframe\">\n",
       "  <thead>\n",
       "    <tr style=\"text-align: right;\">\n",
       "      <th></th>\n",
       "      <th>2013-01-01</th>\n",
       "      <th>2013-01-02</th>\n",
       "      <th>2013-01-03</th>\n",
       "      <th>2013-01-04</th>\n",
       "      <th>2013-01-05</th>\n",
       "      <th>2013-01-06</th>\n",
       "    </tr>\n",
       "  </thead>\n",
       "  <tbody>\n",
       "    <tr>\n",
       "      <td>A</td>\n",
       "      <td>-0.192914</td>\n",
       "      <td>-0.213068</td>\n",
       "      <td>1.035954</td>\n",
       "      <td>0.415059</td>\n",
       "      <td>0.608917</td>\n",
       "      <td>0.275156</td>\n",
       "    </tr>\n",
       "    <tr>\n",
       "      <td>B</td>\n",
       "      <td>0.959854</td>\n",
       "      <td>1.591035</td>\n",
       "      <td>-0.469996</td>\n",
       "      <td>0.385848</td>\n",
       "      <td>-0.320133</td>\n",
       "      <td>-1.421548</td>\n",
       "    </tr>\n",
       "    <tr>\n",
       "      <td>C</td>\n",
       "      <td>1.268042</td>\n",
       "      <td>0.635077</td>\n",
       "      <td>-0.029455</td>\n",
       "      <td>1.747248</td>\n",
       "      <td>-0.074571</td>\n",
       "      <td>0.805026</td>\n",
       "    </tr>\n",
       "    <tr>\n",
       "      <td>D</td>\n",
       "      <td>1.796079</td>\n",
       "      <td>-0.404746</td>\n",
       "      <td>-0.871430</td>\n",
       "      <td>0.336623</td>\n",
       "      <td>-1.131054</td>\n",
       "      <td>0.076590</td>\n",
       "    </tr>\n",
       "  </tbody>\n",
       "</table>\n",
       "</div>"
      ],
      "text/plain": [
       "   2013-01-01  2013-01-02  2013-01-03  2013-01-04  2013-01-05  2013-01-06\n",
       "A   -0.192914   -0.213068    1.035954    0.415059    0.608917    0.275156\n",
       "B    0.959854    1.591035   -0.469996    0.385848   -0.320133   -1.421548\n",
       "C    1.268042    0.635077   -0.029455    1.747248   -0.074571    0.805026\n",
       "D    1.796079   -0.404746   -0.871430    0.336623   -1.131054    0.076590"
      ]
     },
     "execution_count": 17,
     "metadata": {},
     "output_type": "execute_result"
    }
   ],
   "source": [
    "df.T"
   ]
  },
  {
   "cell_type": "markdown",
   "metadata": {},
   "source": [
    "Sorting by an axis"
   ]
  },
  {
   "cell_type": "code",
   "execution_count": 18,
   "metadata": {},
   "outputs": [
    {
     "data": {
      "text/html": [
       "<div>\n",
       "<style scoped>\n",
       "    .dataframe tbody tr th:only-of-type {\n",
       "        vertical-align: middle;\n",
       "    }\n",
       "\n",
       "    .dataframe tbody tr th {\n",
       "        vertical-align: top;\n",
       "    }\n",
       "\n",
       "    .dataframe thead th {\n",
       "        text-align: right;\n",
       "    }\n",
       "</style>\n",
       "<table border=\"1\" class=\"dataframe\">\n",
       "  <thead>\n",
       "    <tr style=\"text-align: right;\">\n",
       "      <th></th>\n",
       "      <th>D</th>\n",
       "      <th>C</th>\n",
       "      <th>B</th>\n",
       "      <th>A</th>\n",
       "    </tr>\n",
       "  </thead>\n",
       "  <tbody>\n",
       "    <tr>\n",
       "      <td>2013-01-01</td>\n",
       "      <td>1.796079</td>\n",
       "      <td>1.268042</td>\n",
       "      <td>0.959854</td>\n",
       "      <td>-0.192914</td>\n",
       "    </tr>\n",
       "    <tr>\n",
       "      <td>2013-01-02</td>\n",
       "      <td>-0.404746</td>\n",
       "      <td>0.635077</td>\n",
       "      <td>1.591035</td>\n",
       "      <td>-0.213068</td>\n",
       "    </tr>\n",
       "    <tr>\n",
       "      <td>2013-01-03</td>\n",
       "      <td>-0.871430</td>\n",
       "      <td>-0.029455</td>\n",
       "      <td>-0.469996</td>\n",
       "      <td>1.035954</td>\n",
       "    </tr>\n",
       "    <tr>\n",
       "      <td>2013-01-04</td>\n",
       "      <td>0.336623</td>\n",
       "      <td>1.747248</td>\n",
       "      <td>0.385848</td>\n",
       "      <td>0.415059</td>\n",
       "    </tr>\n",
       "    <tr>\n",
       "      <td>2013-01-05</td>\n",
       "      <td>-1.131054</td>\n",
       "      <td>-0.074571</td>\n",
       "      <td>-0.320133</td>\n",
       "      <td>0.608917</td>\n",
       "    </tr>\n",
       "    <tr>\n",
       "      <td>2013-01-06</td>\n",
       "      <td>0.076590</td>\n",
       "      <td>0.805026</td>\n",
       "      <td>-1.421548</td>\n",
       "      <td>0.275156</td>\n",
       "    </tr>\n",
       "  </tbody>\n",
       "</table>\n",
       "</div>"
      ],
      "text/plain": [
       "                   D         C         B         A\n",
       "2013-01-01  1.796079  1.268042  0.959854 -0.192914\n",
       "2013-01-02 -0.404746  0.635077  1.591035 -0.213068\n",
       "2013-01-03 -0.871430 -0.029455 -0.469996  1.035954\n",
       "2013-01-04  0.336623  1.747248  0.385848  0.415059\n",
       "2013-01-05 -1.131054 -0.074571 -0.320133  0.608917\n",
       "2013-01-06  0.076590  0.805026 -1.421548  0.275156"
      ]
     },
     "execution_count": 18,
     "metadata": {},
     "output_type": "execute_result"
    }
   ],
   "source": [
    "df.sort_index(axis=1, ascending=False)"
   ]
  },
  {
   "cell_type": "code",
   "execution_count": 19,
   "metadata": {},
   "outputs": [
    {
     "data": {
      "text/html": [
       "<div>\n",
       "<style scoped>\n",
       "    .dataframe tbody tr th:only-of-type {\n",
       "        vertical-align: middle;\n",
       "    }\n",
       "\n",
       "    .dataframe tbody tr th {\n",
       "        vertical-align: top;\n",
       "    }\n",
       "\n",
       "    .dataframe thead th {\n",
       "        text-align: right;\n",
       "    }\n",
       "</style>\n",
       "<table border=\"1\" class=\"dataframe\">\n",
       "  <thead>\n",
       "    <tr style=\"text-align: right;\">\n",
       "      <th></th>\n",
       "      <th>A</th>\n",
       "      <th>B</th>\n",
       "      <th>C</th>\n",
       "      <th>D</th>\n",
       "    </tr>\n",
       "  </thead>\n",
       "  <tbody>\n",
       "    <tr>\n",
       "      <td>2013-01-06</td>\n",
       "      <td>0.275156</td>\n",
       "      <td>-1.421548</td>\n",
       "      <td>0.805026</td>\n",
       "      <td>0.076590</td>\n",
       "    </tr>\n",
       "    <tr>\n",
       "      <td>2013-01-05</td>\n",
       "      <td>0.608917</td>\n",
       "      <td>-0.320133</td>\n",
       "      <td>-0.074571</td>\n",
       "      <td>-1.131054</td>\n",
       "    </tr>\n",
       "    <tr>\n",
       "      <td>2013-01-04</td>\n",
       "      <td>0.415059</td>\n",
       "      <td>0.385848</td>\n",
       "      <td>1.747248</td>\n",
       "      <td>0.336623</td>\n",
       "    </tr>\n",
       "    <tr>\n",
       "      <td>2013-01-03</td>\n",
       "      <td>1.035954</td>\n",
       "      <td>-0.469996</td>\n",
       "      <td>-0.029455</td>\n",
       "      <td>-0.871430</td>\n",
       "    </tr>\n",
       "    <tr>\n",
       "      <td>2013-01-02</td>\n",
       "      <td>-0.213068</td>\n",
       "      <td>1.591035</td>\n",
       "      <td>0.635077</td>\n",
       "      <td>-0.404746</td>\n",
       "    </tr>\n",
       "    <tr>\n",
       "      <td>2013-01-01</td>\n",
       "      <td>-0.192914</td>\n",
       "      <td>0.959854</td>\n",
       "      <td>1.268042</td>\n",
       "      <td>1.796079</td>\n",
       "    </tr>\n",
       "  </tbody>\n",
       "</table>\n",
       "</div>"
      ],
      "text/plain": [
       "                   A         B         C         D\n",
       "2013-01-06  0.275156 -1.421548  0.805026  0.076590\n",
       "2013-01-05  0.608917 -0.320133 -0.074571 -1.131054\n",
       "2013-01-04  0.415059  0.385848  1.747248  0.336623\n",
       "2013-01-03  1.035954 -0.469996 -0.029455 -0.871430\n",
       "2013-01-02 -0.213068  1.591035  0.635077 -0.404746\n",
       "2013-01-01 -0.192914  0.959854  1.268042  1.796079"
      ]
     },
     "execution_count": 19,
     "metadata": {},
     "output_type": "execute_result"
    }
   ],
   "source": [
    "df.sort_index(axis=0, ascending=False)"
   ]
  },
  {
   "cell_type": "markdown",
   "metadata": {},
   "source": [
    "Sorting by values"
   ]
  },
  {
   "cell_type": "code",
   "execution_count": 21,
   "metadata": {},
   "outputs": [
    {
     "data": {
      "text/html": [
       "<div>\n",
       "<style scoped>\n",
       "    .dataframe tbody tr th:only-of-type {\n",
       "        vertical-align: middle;\n",
       "    }\n",
       "\n",
       "    .dataframe tbody tr th {\n",
       "        vertical-align: top;\n",
       "    }\n",
       "\n",
       "    .dataframe thead th {\n",
       "        text-align: right;\n",
       "    }\n",
       "</style>\n",
       "<table border=\"1\" class=\"dataframe\">\n",
       "  <thead>\n",
       "    <tr style=\"text-align: right;\">\n",
       "      <th></th>\n",
       "      <th>A</th>\n",
       "      <th>B</th>\n",
       "      <th>C</th>\n",
       "      <th>D</th>\n",
       "    </tr>\n",
       "  </thead>\n",
       "  <tbody>\n",
       "    <tr>\n",
       "      <td>2013-01-02</td>\n",
       "      <td>-0.213068</td>\n",
       "      <td>1.591035</td>\n",
       "      <td>0.635077</td>\n",
       "      <td>-0.404746</td>\n",
       "    </tr>\n",
       "    <tr>\n",
       "      <td>2013-01-01</td>\n",
       "      <td>-0.192914</td>\n",
       "      <td>0.959854</td>\n",
       "      <td>1.268042</td>\n",
       "      <td>1.796079</td>\n",
       "    </tr>\n",
       "    <tr>\n",
       "      <td>2013-01-06</td>\n",
       "      <td>0.275156</td>\n",
       "      <td>-1.421548</td>\n",
       "      <td>0.805026</td>\n",
       "      <td>0.076590</td>\n",
       "    </tr>\n",
       "    <tr>\n",
       "      <td>2013-01-04</td>\n",
       "      <td>0.415059</td>\n",
       "      <td>0.385848</td>\n",
       "      <td>1.747248</td>\n",
       "      <td>0.336623</td>\n",
       "    </tr>\n",
       "    <tr>\n",
       "      <td>2013-01-05</td>\n",
       "      <td>0.608917</td>\n",
       "      <td>-0.320133</td>\n",
       "      <td>-0.074571</td>\n",
       "      <td>-1.131054</td>\n",
       "    </tr>\n",
       "    <tr>\n",
       "      <td>2013-01-03</td>\n",
       "      <td>1.035954</td>\n",
       "      <td>-0.469996</td>\n",
       "      <td>-0.029455</td>\n",
       "      <td>-0.871430</td>\n",
       "    </tr>\n",
       "  </tbody>\n",
       "</table>\n",
       "</div>"
      ],
      "text/plain": [
       "                   A         B         C         D\n",
       "2013-01-02 -0.213068  1.591035  0.635077 -0.404746\n",
       "2013-01-01 -0.192914  0.959854  1.268042  1.796079\n",
       "2013-01-06  0.275156 -1.421548  0.805026  0.076590\n",
       "2013-01-04  0.415059  0.385848  1.747248  0.336623\n",
       "2013-01-05  0.608917 -0.320133 -0.074571 -1.131054\n",
       "2013-01-03  1.035954 -0.469996 -0.029455 -0.871430"
      ]
     },
     "execution_count": 21,
     "metadata": {},
     "output_type": "execute_result"
    }
   ],
   "source": [
    "df.sort_values(by='A')"
   ]
  },
  {
   "cell_type": "markdown",
   "metadata": {},
   "source": [
    "## Selection\n",
    "\n",
    "### -Note- : While standard Python / Numpy expressions for selecting and setting are intuitive and come in handy for interactive work, for production code, we are recommend the optimized pandas data access methods, .at, .iat, .loc and .iloc"
   ]
  },
  {
   "cell_type": "markdown",
   "metadata": {},
   "source": [
    "### Getting\n",
    "Selecting a single column, which yields a Series, equivalent to df.A"
   ]
  },
  {
   "cell_type": "code",
   "execution_count": 22,
   "metadata": {},
   "outputs": [
    {
     "data": {
      "text/plain": [
       "2013-01-01   -0.192914\n",
       "2013-01-02   -0.213068\n",
       "2013-01-03    1.035954\n",
       "2013-01-04    0.415059\n",
       "2013-01-05    0.608917\n",
       "2013-01-06    0.275156\n",
       "Freq: D, Name: A, dtype: float64"
      ]
     },
     "execution_count": 22,
     "metadata": {},
     "output_type": "execute_result"
    }
   ],
   "source": [
    "df['A']"
   ]
  },
  {
   "cell_type": "markdown",
   "metadata": {},
   "source": [
    "Selecting view [], which slices the rows"
   ]
  },
  {
   "cell_type": "code",
   "execution_count": 23,
   "metadata": {},
   "outputs": [
    {
     "data": {
      "text/html": [
       "<div>\n",
       "<style scoped>\n",
       "    .dataframe tbody tr th:only-of-type {\n",
       "        vertical-align: middle;\n",
       "    }\n",
       "\n",
       "    .dataframe tbody tr th {\n",
       "        vertical-align: top;\n",
       "    }\n",
       "\n",
       "    .dataframe thead th {\n",
       "        text-align: right;\n",
       "    }\n",
       "</style>\n",
       "<table border=\"1\" class=\"dataframe\">\n",
       "  <thead>\n",
       "    <tr style=\"text-align: right;\">\n",
       "      <th></th>\n",
       "      <th>A</th>\n",
       "      <th>B</th>\n",
       "      <th>C</th>\n",
       "      <th>D</th>\n",
       "    </tr>\n",
       "  </thead>\n",
       "  <tbody>\n",
       "    <tr>\n",
       "      <td>2013-01-01</td>\n",
       "      <td>-0.192914</td>\n",
       "      <td>0.959854</td>\n",
       "      <td>1.268042</td>\n",
       "      <td>1.796079</td>\n",
       "    </tr>\n",
       "    <tr>\n",
       "      <td>2013-01-02</td>\n",
       "      <td>-0.213068</td>\n",
       "      <td>1.591035</td>\n",
       "      <td>0.635077</td>\n",
       "      <td>-0.404746</td>\n",
       "    </tr>\n",
       "    <tr>\n",
       "      <td>2013-01-03</td>\n",
       "      <td>1.035954</td>\n",
       "      <td>-0.469996</td>\n",
       "      <td>-0.029455</td>\n",
       "      <td>-0.871430</td>\n",
       "    </tr>\n",
       "  </tbody>\n",
       "</table>\n",
       "</div>"
      ],
      "text/plain": [
       "                   A         B         C         D\n",
       "2013-01-01 -0.192914  0.959854  1.268042  1.796079\n",
       "2013-01-02 -0.213068  1.591035  0.635077 -0.404746\n",
       "2013-01-03  1.035954 -0.469996 -0.029455 -0.871430"
      ]
     },
     "execution_count": 23,
     "metadata": {},
     "output_type": "execute_result"
    }
   ],
   "source": [
    "df[0:3]"
   ]
  },
  {
   "cell_type": "code",
   "execution_count": 24,
   "metadata": {},
   "outputs": [
    {
     "data": {
      "text/html": [
       "<div>\n",
       "<style scoped>\n",
       "    .dataframe tbody tr th:only-of-type {\n",
       "        vertical-align: middle;\n",
       "    }\n",
       "\n",
       "    .dataframe tbody tr th {\n",
       "        vertical-align: top;\n",
       "    }\n",
       "\n",
       "    .dataframe thead th {\n",
       "        text-align: right;\n",
       "    }\n",
       "</style>\n",
       "<table border=\"1\" class=\"dataframe\">\n",
       "  <thead>\n",
       "    <tr style=\"text-align: right;\">\n",
       "      <th></th>\n",
       "      <th>A</th>\n",
       "      <th>B</th>\n",
       "      <th>C</th>\n",
       "      <th>D</th>\n",
       "    </tr>\n",
       "  </thead>\n",
       "  <tbody>\n",
       "    <tr>\n",
       "      <td>2013-01-02</td>\n",
       "      <td>-0.213068</td>\n",
       "      <td>1.591035</td>\n",
       "      <td>0.635077</td>\n",
       "      <td>-0.404746</td>\n",
       "    </tr>\n",
       "    <tr>\n",
       "      <td>2013-01-03</td>\n",
       "      <td>1.035954</td>\n",
       "      <td>-0.469996</td>\n",
       "      <td>-0.029455</td>\n",
       "      <td>-0.871430</td>\n",
       "    </tr>\n",
       "    <tr>\n",
       "      <td>2013-01-04</td>\n",
       "      <td>0.415059</td>\n",
       "      <td>0.385848</td>\n",
       "      <td>1.747248</td>\n",
       "      <td>0.336623</td>\n",
       "    </tr>\n",
       "  </tbody>\n",
       "</table>\n",
       "</div>"
      ],
      "text/plain": [
       "                   A         B         C         D\n",
       "2013-01-02 -0.213068  1.591035  0.635077 -0.404746\n",
       "2013-01-03  1.035954 -0.469996 -0.029455 -0.871430\n",
       "2013-01-04  0.415059  0.385848  1.747248  0.336623"
      ]
     },
     "execution_count": 24,
     "metadata": {},
     "output_type": "execute_result"
    }
   ],
   "source": [
    "df['20130102':'20130104']"
   ]
  },
  {
   "cell_type": "markdown",
   "metadata": {},
   "source": [
    "## Selection By Label\n"
   ]
  },
  {
   "cell_type": "code",
   "execution_count": 25,
   "metadata": {},
   "outputs": [
    {
     "data": {
      "text/plain": [
       "A   -0.192914\n",
       "B    0.959854\n",
       "C    1.268042\n",
       "D    1.796079\n",
       "Name: 2013-01-01 00:00:00, dtype: float64"
      ]
     },
     "execution_count": 25,
     "metadata": {},
     "output_type": "execute_result"
    }
   ],
   "source": [
    "df.loc[dates[0]]"
   ]
  },
  {
   "cell_type": "markdown",
   "metadata": {},
   "source": [
    "Selection on a multi-axis by label"
   ]
  },
  {
   "cell_type": "code",
   "execution_count": 26,
   "metadata": {},
   "outputs": [
    {
     "data": {
      "text/html": [
       "<div>\n",
       "<style scoped>\n",
       "    .dataframe tbody tr th:only-of-type {\n",
       "        vertical-align: middle;\n",
       "    }\n",
       "\n",
       "    .dataframe tbody tr th {\n",
       "        vertical-align: top;\n",
       "    }\n",
       "\n",
       "    .dataframe thead th {\n",
       "        text-align: right;\n",
       "    }\n",
       "</style>\n",
       "<table border=\"1\" class=\"dataframe\">\n",
       "  <thead>\n",
       "    <tr style=\"text-align: right;\">\n",
       "      <th></th>\n",
       "      <th>A</th>\n",
       "      <th>B</th>\n",
       "    </tr>\n",
       "  </thead>\n",
       "  <tbody>\n",
       "    <tr>\n",
       "      <td>2013-01-01</td>\n",
       "      <td>-0.192914</td>\n",
       "      <td>0.959854</td>\n",
       "    </tr>\n",
       "    <tr>\n",
       "      <td>2013-01-02</td>\n",
       "      <td>-0.213068</td>\n",
       "      <td>1.591035</td>\n",
       "    </tr>\n",
       "    <tr>\n",
       "      <td>2013-01-03</td>\n",
       "      <td>1.035954</td>\n",
       "      <td>-0.469996</td>\n",
       "    </tr>\n",
       "    <tr>\n",
       "      <td>2013-01-04</td>\n",
       "      <td>0.415059</td>\n",
       "      <td>0.385848</td>\n",
       "    </tr>\n",
       "    <tr>\n",
       "      <td>2013-01-05</td>\n",
       "      <td>0.608917</td>\n",
       "      <td>-0.320133</td>\n",
       "    </tr>\n",
       "    <tr>\n",
       "      <td>2013-01-06</td>\n",
       "      <td>0.275156</td>\n",
       "      <td>-1.421548</td>\n",
       "    </tr>\n",
       "  </tbody>\n",
       "</table>\n",
       "</div>"
      ],
      "text/plain": [
       "                   A         B\n",
       "2013-01-01 -0.192914  0.959854\n",
       "2013-01-02 -0.213068  1.591035\n",
       "2013-01-03  1.035954 -0.469996\n",
       "2013-01-04  0.415059  0.385848\n",
       "2013-01-05  0.608917 -0.320133\n",
       "2013-01-06  0.275156 -1.421548"
      ]
     },
     "execution_count": 26,
     "metadata": {},
     "output_type": "execute_result"
    }
   ],
   "source": [
    "df.loc[:,['A', 'B']]"
   ]
  },
  {
   "cell_type": "markdown",
   "metadata": {},
   "source": [
    "Showing label slicing, both endpoints are included"
   ]
  },
  {
   "cell_type": "code",
   "execution_count": 27,
   "metadata": {},
   "outputs": [
    {
     "data": {
      "text/html": [
       "<div>\n",
       "<style scoped>\n",
       "    .dataframe tbody tr th:only-of-type {\n",
       "        vertical-align: middle;\n",
       "    }\n",
       "\n",
       "    .dataframe tbody tr th {\n",
       "        vertical-align: top;\n",
       "    }\n",
       "\n",
       "    .dataframe thead th {\n",
       "        text-align: right;\n",
       "    }\n",
       "</style>\n",
       "<table border=\"1\" class=\"dataframe\">\n",
       "  <thead>\n",
       "    <tr style=\"text-align: right;\">\n",
       "      <th></th>\n",
       "      <th>A</th>\n",
       "      <th>B</th>\n",
       "    </tr>\n",
       "  </thead>\n",
       "  <tbody>\n",
       "    <tr>\n",
       "      <td>2013-01-02</td>\n",
       "      <td>-0.213068</td>\n",
       "      <td>1.591035</td>\n",
       "    </tr>\n",
       "    <tr>\n",
       "      <td>2013-01-03</td>\n",
       "      <td>1.035954</td>\n",
       "      <td>-0.469996</td>\n",
       "    </tr>\n",
       "    <tr>\n",
       "      <td>2013-01-04</td>\n",
       "      <td>0.415059</td>\n",
       "      <td>0.385848</td>\n",
       "    </tr>\n",
       "  </tbody>\n",
       "</table>\n",
       "</div>"
      ],
      "text/plain": [
       "                   A         B\n",
       "2013-01-02 -0.213068  1.591035\n",
       "2013-01-03  1.035954 -0.469996\n",
       "2013-01-04  0.415059  0.385848"
      ]
     },
     "execution_count": 27,
     "metadata": {},
     "output_type": "execute_result"
    }
   ],
   "source": [
    "df.loc['20130102':'20130104', ['A', 'B']]"
   ]
  },
  {
   "cell_type": "markdown",
   "metadata": {},
   "source": [
    "Reduction in the dimensions of the returned object"
   ]
  },
  {
   "cell_type": "code",
   "execution_count": 28,
   "metadata": {},
   "outputs": [
    {
     "data": {
      "text/plain": [
       "A   -0.213068\n",
       "B    1.591035\n",
       "Name: 2013-01-02 00:00:00, dtype: float64"
      ]
     },
     "execution_count": 28,
     "metadata": {},
     "output_type": "execute_result"
    }
   ],
   "source": [
    "df.loc['20130102', ['A', 'B']]"
   ]
  },
  {
   "cell_type": "markdown",
   "metadata": {},
   "source": [
    "For getting a scalar value"
   ]
  },
  {
   "cell_type": "code",
   "execution_count": 29,
   "metadata": {},
   "outputs": [
    {
     "data": {
      "text/plain": [
       "-0.1929140158911852"
      ]
     },
     "execution_count": 29,
     "metadata": {},
     "output_type": "execute_result"
    }
   ],
   "source": [
    "df.loc[dates[0], 'A']"
   ]
  },
  {
   "cell_type": "markdown",
   "metadata": {},
   "source": [
    "For getting fast access to a scalar (equivalent to the prior method)"
   ]
  },
  {
   "cell_type": "code",
   "execution_count": 30,
   "metadata": {},
   "outputs": [
    {
     "data": {
      "text/plain": [
       "-0.1929140158911852"
      ]
     },
     "execution_count": 30,
     "metadata": {},
     "output_type": "execute_result"
    }
   ],
   "source": [
    "df.at[dates[0], 'A']"
   ]
  },
  {
   "cell_type": "markdown",
   "metadata": {},
   "source": [
    "## Selection by position"
   ]
  },
  {
   "cell_type": "code",
   "execution_count": 32,
   "metadata": {},
   "outputs": [
    {
     "data": {
      "text/plain": [
       "A    0.415059\n",
       "B    0.385848\n",
       "C    1.747248\n",
       "D    0.336623\n",
       "Name: 2013-01-04 00:00:00, dtype: float64"
      ]
     },
     "execution_count": 32,
     "metadata": {},
     "output_type": "execute_result"
    }
   ],
   "source": [
    "df.iloc[3]"
   ]
  },
  {
   "cell_type": "markdown",
   "metadata": {},
   "source": [
    "By integer slices, actiong similar to numpy/python"
   ]
  },
  {
   "cell_type": "code",
   "execution_count": 33,
   "metadata": {},
   "outputs": [
    {
     "data": {
      "text/html": [
       "<div>\n",
       "<style scoped>\n",
       "    .dataframe tbody tr th:only-of-type {\n",
       "        vertical-align: middle;\n",
       "    }\n",
       "\n",
       "    .dataframe tbody tr th {\n",
       "        vertical-align: top;\n",
       "    }\n",
       "\n",
       "    .dataframe thead th {\n",
       "        text-align: right;\n",
       "    }\n",
       "</style>\n",
       "<table border=\"1\" class=\"dataframe\">\n",
       "  <thead>\n",
       "    <tr style=\"text-align: right;\">\n",
       "      <th></th>\n",
       "      <th>A</th>\n",
       "      <th>B</th>\n",
       "    </tr>\n",
       "  </thead>\n",
       "  <tbody>\n",
       "    <tr>\n",
       "      <td>2013-01-04</td>\n",
       "      <td>0.415059</td>\n",
       "      <td>0.385848</td>\n",
       "    </tr>\n",
       "    <tr>\n",
       "      <td>2013-01-05</td>\n",
       "      <td>0.608917</td>\n",
       "      <td>-0.320133</td>\n",
       "    </tr>\n",
       "  </tbody>\n",
       "</table>\n",
       "</div>"
      ],
      "text/plain": [
       "                   A         B\n",
       "2013-01-04  0.415059  0.385848\n",
       "2013-01-05  0.608917 -0.320133"
      ]
     },
     "execution_count": 33,
     "metadata": {},
     "output_type": "execute_result"
    }
   ],
   "source": [
    "df.iloc[3:5, 0:2]"
   ]
  },
  {
   "cell_type": "markdown",
   "metadata": {},
   "source": [
    "By list of integer position locations, similar to the numpy/python style"
   ]
  },
  {
   "cell_type": "code",
   "execution_count": 34,
   "metadata": {},
   "outputs": [
    {
     "data": {
      "text/html": [
       "<div>\n",
       "<style scoped>\n",
       "    .dataframe tbody tr th:only-of-type {\n",
       "        vertical-align: middle;\n",
       "    }\n",
       "\n",
       "    .dataframe tbody tr th {\n",
       "        vertical-align: top;\n",
       "    }\n",
       "\n",
       "    .dataframe thead th {\n",
       "        text-align: right;\n",
       "    }\n",
       "</style>\n",
       "<table border=\"1\" class=\"dataframe\">\n",
       "  <thead>\n",
       "    <tr style=\"text-align: right;\">\n",
       "      <th></th>\n",
       "      <th>A</th>\n",
       "      <th>C</th>\n",
       "    </tr>\n",
       "  </thead>\n",
       "  <tbody>\n",
       "    <tr>\n",
       "      <td>2013-01-02</td>\n",
       "      <td>-0.213068</td>\n",
       "      <td>0.635077</td>\n",
       "    </tr>\n",
       "    <tr>\n",
       "      <td>2013-01-03</td>\n",
       "      <td>1.035954</td>\n",
       "      <td>-0.029455</td>\n",
       "    </tr>\n",
       "    <tr>\n",
       "      <td>2013-01-04</td>\n",
       "      <td>0.415059</td>\n",
       "      <td>1.747248</td>\n",
       "    </tr>\n",
       "  </tbody>\n",
       "</table>\n",
       "</div>"
      ],
      "text/plain": [
       "                   A         C\n",
       "2013-01-02 -0.213068  0.635077\n",
       "2013-01-03  1.035954 -0.029455\n",
       "2013-01-04  0.415059  1.747248"
      ]
     },
     "execution_count": 34,
     "metadata": {},
     "output_type": "execute_result"
    }
   ],
   "source": [
    "df.iloc[[1, 2, 3], [0, 2]]"
   ]
  },
  {
   "cell_type": "markdown",
   "metadata": {},
   "source": [
    "for slicing rows explicity"
   ]
  },
  {
   "cell_type": "code",
   "execution_count": 35,
   "metadata": {},
   "outputs": [
    {
     "data": {
      "text/html": [
       "<div>\n",
       "<style scoped>\n",
       "    .dataframe tbody tr th:only-of-type {\n",
       "        vertical-align: middle;\n",
       "    }\n",
       "\n",
       "    .dataframe tbody tr th {\n",
       "        vertical-align: top;\n",
       "    }\n",
       "\n",
       "    .dataframe thead th {\n",
       "        text-align: right;\n",
       "    }\n",
       "</style>\n",
       "<table border=\"1\" class=\"dataframe\">\n",
       "  <thead>\n",
       "    <tr style=\"text-align: right;\">\n",
       "      <th></th>\n",
       "      <th>A</th>\n",
       "      <th>B</th>\n",
       "      <th>C</th>\n",
       "      <th>D</th>\n",
       "    </tr>\n",
       "  </thead>\n",
       "  <tbody>\n",
       "    <tr>\n",
       "      <td>2013-01-02</td>\n",
       "      <td>-0.213068</td>\n",
       "      <td>1.591035</td>\n",
       "      <td>0.635077</td>\n",
       "      <td>-0.404746</td>\n",
       "    </tr>\n",
       "    <tr>\n",
       "      <td>2013-01-03</td>\n",
       "      <td>1.035954</td>\n",
       "      <td>-0.469996</td>\n",
       "      <td>-0.029455</td>\n",
       "      <td>-0.871430</td>\n",
       "    </tr>\n",
       "  </tbody>\n",
       "</table>\n",
       "</div>"
      ],
      "text/plain": [
       "                   A         B         C         D\n",
       "2013-01-02 -0.213068  1.591035  0.635077 -0.404746\n",
       "2013-01-03  1.035954 -0.469996 -0.029455 -0.871430"
      ]
     },
     "execution_count": 35,
     "metadata": {},
     "output_type": "execute_result"
    }
   ],
   "source": [
    "df.iloc[1:3, :]"
   ]
  },
  {
   "cell_type": "markdown",
   "metadata": {},
   "source": [
    "for slicing columnsexplicity"
   ]
  },
  {
   "cell_type": "code",
   "execution_count": 36,
   "metadata": {},
   "outputs": [
    {
     "data": {
      "text/html": [
       "<div>\n",
       "<style scoped>\n",
       "    .dataframe tbody tr th:only-of-type {\n",
       "        vertical-align: middle;\n",
       "    }\n",
       "\n",
       "    .dataframe tbody tr th {\n",
       "        vertical-align: top;\n",
       "    }\n",
       "\n",
       "    .dataframe thead th {\n",
       "        text-align: right;\n",
       "    }\n",
       "</style>\n",
       "<table border=\"1\" class=\"dataframe\">\n",
       "  <thead>\n",
       "    <tr style=\"text-align: right;\">\n",
       "      <th></th>\n",
       "      <th>B</th>\n",
       "      <th>C</th>\n",
       "    </tr>\n",
       "  </thead>\n",
       "  <tbody>\n",
       "    <tr>\n",
       "      <td>2013-01-01</td>\n",
       "      <td>0.959854</td>\n",
       "      <td>1.268042</td>\n",
       "    </tr>\n",
       "    <tr>\n",
       "      <td>2013-01-02</td>\n",
       "      <td>1.591035</td>\n",
       "      <td>0.635077</td>\n",
       "    </tr>\n",
       "    <tr>\n",
       "      <td>2013-01-03</td>\n",
       "      <td>-0.469996</td>\n",
       "      <td>-0.029455</td>\n",
       "    </tr>\n",
       "    <tr>\n",
       "      <td>2013-01-04</td>\n",
       "      <td>0.385848</td>\n",
       "      <td>1.747248</td>\n",
       "    </tr>\n",
       "    <tr>\n",
       "      <td>2013-01-05</td>\n",
       "      <td>-0.320133</td>\n",
       "      <td>-0.074571</td>\n",
       "    </tr>\n",
       "    <tr>\n",
       "      <td>2013-01-06</td>\n",
       "      <td>-1.421548</td>\n",
       "      <td>0.805026</td>\n",
       "    </tr>\n",
       "  </tbody>\n",
       "</table>\n",
       "</div>"
      ],
      "text/plain": [
       "                   B         C\n",
       "2013-01-01  0.959854  1.268042\n",
       "2013-01-02  1.591035  0.635077\n",
       "2013-01-03 -0.469996 -0.029455\n",
       "2013-01-04  0.385848  1.747248\n",
       "2013-01-05 -0.320133 -0.074571\n",
       "2013-01-06 -1.421548  0.805026"
      ]
     },
     "execution_count": 36,
     "metadata": {},
     "output_type": "execute_result"
    }
   ],
   "source": [
    "df.iloc[:, 1:3]"
   ]
  },
  {
   "cell_type": "code",
   "execution_count": 37,
   "metadata": {},
   "outputs": [
    {
     "data": {
      "text/plain": [
       "1.591034742344578"
      ]
     },
     "execution_count": 37,
     "metadata": {},
     "output_type": "execute_result"
    }
   ],
   "source": [
    "# FOR GETTING A VALUE EXPLICITY\n",
    "df.iloc[1, 1]"
   ]
  },
  {
   "cell_type": "code",
   "execution_count": 39,
   "metadata": {},
   "outputs": [
    {
     "data": {
      "text/plain": [
       "1.591034742344578"
      ]
     },
     "execution_count": 39,
     "metadata": {},
     "output_type": "execute_result"
    }
   ],
   "source": [
    "# FOR GETTING FAST ACCESS TO A SCALAR (Equivalent to the prior method)\n",
    "df.iat[1, 1]"
   ]
  },
  {
   "cell_type": "markdown",
   "metadata": {},
   "source": [
    "## Boolean indexing"
   ]
  },
  {
   "cell_type": "code",
   "execution_count": 42,
   "metadata": {},
   "outputs": [
    {
     "data": {
      "text/html": [
       "<div>\n",
       "<style scoped>\n",
       "    .dataframe tbody tr th:only-of-type {\n",
       "        vertical-align: middle;\n",
       "    }\n",
       "\n",
       "    .dataframe tbody tr th {\n",
       "        vertical-align: top;\n",
       "    }\n",
       "\n",
       "    .dataframe thead th {\n",
       "        text-align: right;\n",
       "    }\n",
       "</style>\n",
       "<table border=\"1\" class=\"dataframe\">\n",
       "  <thead>\n",
       "    <tr style=\"text-align: right;\">\n",
       "      <th></th>\n",
       "      <th>A</th>\n",
       "      <th>B</th>\n",
       "      <th>C</th>\n",
       "      <th>D</th>\n",
       "    </tr>\n",
       "  </thead>\n",
       "  <tbody>\n",
       "    <tr>\n",
       "      <td>2013-01-01</td>\n",
       "      <td>-0.192914</td>\n",
       "      <td>0.959854</td>\n",
       "      <td>1.268042</td>\n",
       "      <td>1.796079</td>\n",
       "    </tr>\n",
       "    <tr>\n",
       "      <td>2013-01-02</td>\n",
       "      <td>-0.213068</td>\n",
       "      <td>1.591035</td>\n",
       "      <td>0.635077</td>\n",
       "      <td>-0.404746</td>\n",
       "    </tr>\n",
       "    <tr>\n",
       "      <td>2013-01-04</td>\n",
       "      <td>0.415059</td>\n",
       "      <td>0.385848</td>\n",
       "      <td>1.747248</td>\n",
       "      <td>0.336623</td>\n",
       "    </tr>\n",
       "    <tr>\n",
       "      <td>2013-01-06</td>\n",
       "      <td>0.275156</td>\n",
       "      <td>-1.421548</td>\n",
       "      <td>0.805026</td>\n",
       "      <td>0.076590</td>\n",
       "    </tr>\n",
       "  </tbody>\n",
       "</table>\n",
       "</div>"
      ],
      "text/plain": [
       "                   A         B         C         D\n",
       "2013-01-01 -0.192914  0.959854  1.268042  1.796079\n",
       "2013-01-02 -0.213068  1.591035  0.635077 -0.404746\n",
       "2013-01-04  0.415059  0.385848  1.747248  0.336623\n",
       "2013-01-06  0.275156 -1.421548  0.805026  0.076590"
      ]
     },
     "execution_count": 42,
     "metadata": {},
     "output_type": "execute_result"
    }
   ],
   "source": [
    "# using a single column's values to select data\n",
    "df[df.C > 0]"
   ]
  },
  {
   "cell_type": "code",
   "execution_count": 43,
   "metadata": {},
   "outputs": [
    {
     "data": {
      "text/html": [
       "<div>\n",
       "<style scoped>\n",
       "    .dataframe tbody tr th:only-of-type {\n",
       "        vertical-align: middle;\n",
       "    }\n",
       "\n",
       "    .dataframe tbody tr th {\n",
       "        vertical-align: top;\n",
       "    }\n",
       "\n",
       "    .dataframe thead th {\n",
       "        text-align: right;\n",
       "    }\n",
       "</style>\n",
       "<table border=\"1\" class=\"dataframe\">\n",
       "  <thead>\n",
       "    <tr style=\"text-align: right;\">\n",
       "      <th></th>\n",
       "      <th>A</th>\n",
       "      <th>B</th>\n",
       "      <th>C</th>\n",
       "      <th>D</th>\n",
       "    </tr>\n",
       "  </thead>\n",
       "  <tbody>\n",
       "    <tr>\n",
       "      <td>2013-01-01</td>\n",
       "      <td>NaN</td>\n",
       "      <td>0.959854</td>\n",
       "      <td>1.268042</td>\n",
       "      <td>1.796079</td>\n",
       "    </tr>\n",
       "    <tr>\n",
       "      <td>2013-01-02</td>\n",
       "      <td>NaN</td>\n",
       "      <td>1.591035</td>\n",
       "      <td>0.635077</td>\n",
       "      <td>NaN</td>\n",
       "    </tr>\n",
       "    <tr>\n",
       "      <td>2013-01-03</td>\n",
       "      <td>1.035954</td>\n",
       "      <td>NaN</td>\n",
       "      <td>NaN</td>\n",
       "      <td>NaN</td>\n",
       "    </tr>\n",
       "    <tr>\n",
       "      <td>2013-01-04</td>\n",
       "      <td>0.415059</td>\n",
       "      <td>0.385848</td>\n",
       "      <td>1.747248</td>\n",
       "      <td>0.336623</td>\n",
       "    </tr>\n",
       "    <tr>\n",
       "      <td>2013-01-05</td>\n",
       "      <td>0.608917</td>\n",
       "      <td>NaN</td>\n",
       "      <td>NaN</td>\n",
       "      <td>NaN</td>\n",
       "    </tr>\n",
       "    <tr>\n",
       "      <td>2013-01-06</td>\n",
       "      <td>0.275156</td>\n",
       "      <td>NaN</td>\n",
       "      <td>0.805026</td>\n",
       "      <td>0.076590</td>\n",
       "    </tr>\n",
       "  </tbody>\n",
       "</table>\n",
       "</div>"
      ],
      "text/plain": [
       "                   A         B         C         D\n",
       "2013-01-01       NaN  0.959854  1.268042  1.796079\n",
       "2013-01-02       NaN  1.591035  0.635077       NaN\n",
       "2013-01-03  1.035954       NaN       NaN       NaN\n",
       "2013-01-04  0.415059  0.385848  1.747248  0.336623\n",
       "2013-01-05  0.608917       NaN       NaN       NaN\n",
       "2013-01-06  0.275156       NaN  0.805026  0.076590"
      ]
     },
     "execution_count": 43,
     "metadata": {},
     "output_type": "execute_result"
    }
   ],
   "source": [
    "# Selecting values from a DataFrame where a boolean confition is met\n",
    "df[df > 0]"
   ]
  },
  {
   "cell_type": "code",
   "execution_count": 44,
   "metadata": {},
   "outputs": [
    {
     "data": {
      "text/html": [
       "<div>\n",
       "<style scoped>\n",
       "    .dataframe tbody tr th:only-of-type {\n",
       "        vertical-align: middle;\n",
       "    }\n",
       "\n",
       "    .dataframe tbody tr th {\n",
       "        vertical-align: top;\n",
       "    }\n",
       "\n",
       "    .dataframe thead th {\n",
       "        text-align: right;\n",
       "    }\n",
       "</style>\n",
       "<table border=\"1\" class=\"dataframe\">\n",
       "  <thead>\n",
       "    <tr style=\"text-align: right;\">\n",
       "      <th></th>\n",
       "      <th>A</th>\n",
       "      <th>B</th>\n",
       "      <th>C</th>\n",
       "      <th>D</th>\n",
       "      <th>E</th>\n",
       "    </tr>\n",
       "  </thead>\n",
       "  <tbody>\n",
       "    <tr>\n",
       "      <td>2013-01-01</td>\n",
       "      <td>-0.192914</td>\n",
       "      <td>0.959854</td>\n",
       "      <td>1.268042</td>\n",
       "      <td>1.796079</td>\n",
       "      <td>one</td>\n",
       "    </tr>\n",
       "    <tr>\n",
       "      <td>2013-01-02</td>\n",
       "      <td>-0.213068</td>\n",
       "      <td>1.591035</td>\n",
       "      <td>0.635077</td>\n",
       "      <td>-0.404746</td>\n",
       "      <td>one</td>\n",
       "    </tr>\n",
       "    <tr>\n",
       "      <td>2013-01-03</td>\n",
       "      <td>1.035954</td>\n",
       "      <td>-0.469996</td>\n",
       "      <td>-0.029455</td>\n",
       "      <td>-0.871430</td>\n",
       "      <td>two</td>\n",
       "    </tr>\n",
       "    <tr>\n",
       "      <td>2013-01-04</td>\n",
       "      <td>0.415059</td>\n",
       "      <td>0.385848</td>\n",
       "      <td>1.747248</td>\n",
       "      <td>0.336623</td>\n",
       "      <td>three</td>\n",
       "    </tr>\n",
       "    <tr>\n",
       "      <td>2013-01-05</td>\n",
       "      <td>0.608917</td>\n",
       "      <td>-0.320133</td>\n",
       "      <td>-0.074571</td>\n",
       "      <td>-1.131054</td>\n",
       "      <td>four</td>\n",
       "    </tr>\n",
       "    <tr>\n",
       "      <td>2013-01-06</td>\n",
       "      <td>0.275156</td>\n",
       "      <td>-1.421548</td>\n",
       "      <td>0.805026</td>\n",
       "      <td>0.076590</td>\n",
       "      <td>three</td>\n",
       "    </tr>\n",
       "  </tbody>\n",
       "</table>\n",
       "</div>"
      ],
      "text/plain": [
       "                   A         B         C         D      E\n",
       "2013-01-01 -0.192914  0.959854  1.268042  1.796079    one\n",
       "2013-01-02 -0.213068  1.591035  0.635077 -0.404746    one\n",
       "2013-01-03  1.035954 -0.469996 -0.029455 -0.871430    two\n",
       "2013-01-04  0.415059  0.385848  1.747248  0.336623  three\n",
       "2013-01-05  0.608917 -0.320133 -0.074571 -1.131054   four\n",
       "2013-01-06  0.275156 -1.421548  0.805026  0.076590  three"
      ]
     },
     "execution_count": 44,
     "metadata": {},
     "output_type": "execute_result"
    }
   ],
   "source": [
    "# using the isin() method for filtering\n",
    "df2 = df.copy()\n",
    "df2['E'] = ['one', 'one', 'two', 'three', 'four', 'three']\n",
    "df2"
   ]
  },
  {
   "cell_type": "code",
   "execution_count": 46,
   "metadata": {},
   "outputs": [
    {
     "data": {
      "text/html": [
       "<div>\n",
       "<style scoped>\n",
       "    .dataframe tbody tr th:only-of-type {\n",
       "        vertical-align: middle;\n",
       "    }\n",
       "\n",
       "    .dataframe tbody tr th {\n",
       "        vertical-align: top;\n",
       "    }\n",
       "\n",
       "    .dataframe thead th {\n",
       "        text-align: right;\n",
       "    }\n",
       "</style>\n",
       "<table border=\"1\" class=\"dataframe\">\n",
       "  <thead>\n",
       "    <tr style=\"text-align: right;\">\n",
       "      <th></th>\n",
       "      <th>A</th>\n",
       "      <th>B</th>\n",
       "      <th>C</th>\n",
       "      <th>D</th>\n",
       "      <th>E</th>\n",
       "    </tr>\n",
       "  </thead>\n",
       "  <tbody>\n",
       "    <tr>\n",
       "      <td>2013-01-01</td>\n",
       "      <td>-0.192914</td>\n",
       "      <td>0.959854</td>\n",
       "      <td>1.268042</td>\n",
       "      <td>1.796079</td>\n",
       "      <td>one</td>\n",
       "    </tr>\n",
       "    <tr>\n",
       "      <td>2013-01-02</td>\n",
       "      <td>-0.213068</td>\n",
       "      <td>1.591035</td>\n",
       "      <td>0.635077</td>\n",
       "      <td>-0.404746</td>\n",
       "      <td>one</td>\n",
       "    </tr>\n",
       "    <tr>\n",
       "      <td>2013-01-05</td>\n",
       "      <td>0.608917</td>\n",
       "      <td>-0.320133</td>\n",
       "      <td>-0.074571</td>\n",
       "      <td>-1.131054</td>\n",
       "      <td>four</td>\n",
       "    </tr>\n",
       "  </tbody>\n",
       "</table>\n",
       "</div>"
      ],
      "text/plain": [
       "                   A         B         C         D     E\n",
       "2013-01-01 -0.192914  0.959854  1.268042  1.796079   one\n",
       "2013-01-02 -0.213068  1.591035  0.635077 -0.404746   one\n",
       "2013-01-05  0.608917 -0.320133 -0.074571 -1.131054  four"
      ]
     },
     "execution_count": 46,
     "metadata": {},
     "output_type": "execute_result"
    }
   ],
   "source": [
    "df2[df2['E'].isin(['one', 'four'])]"
   ]
  },
  {
   "cell_type": "markdown",
   "metadata": {},
   "source": [
    "## Setting"
   ]
  },
  {
   "cell_type": "code",
   "execution_count": 51,
   "metadata": {},
   "outputs": [
    {
     "data": {
      "text/plain": [
       "2013-01-01    1\n",
       "2013-01-02    2\n",
       "2013-01-03    3\n",
       "2013-01-04    4\n",
       "2013-01-05    5\n",
       "2013-01-06    6\n",
       "Freq: D, dtype: int64"
      ]
     },
     "execution_count": 51,
     "metadata": {},
     "output_type": "execute_result"
    }
   ],
   "source": [
    "# Setting a new column automatically aligns the data by the indexes\n",
    "sl = pd.Series([1, 2, 3, 4, 5, 6], index=pd.date_range('20130101',periods=6))\n",
    "sl"
   ]
  },
  {
   "cell_type": "code",
   "execution_count": 52,
   "metadata": {},
   "outputs": [
    {
     "data": {
      "text/html": [
       "<div>\n",
       "<style scoped>\n",
       "    .dataframe tbody tr th:only-of-type {\n",
       "        vertical-align: middle;\n",
       "    }\n",
       "\n",
       "    .dataframe tbody tr th {\n",
       "        vertical-align: top;\n",
       "    }\n",
       "\n",
       "    .dataframe thead th {\n",
       "        text-align: right;\n",
       "    }\n",
       "</style>\n",
       "<table border=\"1\" class=\"dataframe\">\n",
       "  <thead>\n",
       "    <tr style=\"text-align: right;\">\n",
       "      <th></th>\n",
       "      <th>A</th>\n",
       "      <th>B</th>\n",
       "      <th>C</th>\n",
       "      <th>D</th>\n",
       "      <th>F</th>\n",
       "    </tr>\n",
       "  </thead>\n",
       "  <tbody>\n",
       "    <tr>\n",
       "      <td>2013-01-01</td>\n",
       "      <td>0.000000</td>\n",
       "      <td>0.000000</td>\n",
       "      <td>1.268042</td>\n",
       "      <td>5</td>\n",
       "      <td>1</td>\n",
       "    </tr>\n",
       "    <tr>\n",
       "      <td>2013-01-02</td>\n",
       "      <td>-0.213068</td>\n",
       "      <td>1.591035</td>\n",
       "      <td>0.635077</td>\n",
       "      <td>5</td>\n",
       "      <td>2</td>\n",
       "    </tr>\n",
       "    <tr>\n",
       "      <td>2013-01-03</td>\n",
       "      <td>1.035954</td>\n",
       "      <td>-0.469996</td>\n",
       "      <td>-0.029455</td>\n",
       "      <td>5</td>\n",
       "      <td>3</td>\n",
       "    </tr>\n",
       "    <tr>\n",
       "      <td>2013-01-04</td>\n",
       "      <td>0.415059</td>\n",
       "      <td>0.385848</td>\n",
       "      <td>1.747248</td>\n",
       "      <td>5</td>\n",
       "      <td>4</td>\n",
       "    </tr>\n",
       "    <tr>\n",
       "      <td>2013-01-05</td>\n",
       "      <td>0.608917</td>\n",
       "      <td>-0.320133</td>\n",
       "      <td>-0.074571</td>\n",
       "      <td>5</td>\n",
       "      <td>5</td>\n",
       "    </tr>\n",
       "    <tr>\n",
       "      <td>2013-01-06</td>\n",
       "      <td>0.275156</td>\n",
       "      <td>-1.421548</td>\n",
       "      <td>0.805026</td>\n",
       "      <td>5</td>\n",
       "      <td>6</td>\n",
       "    </tr>\n",
       "  </tbody>\n",
       "</table>\n",
       "</div>"
      ],
      "text/plain": [
       "                   A         B         C  D  F\n",
       "2013-01-01  0.000000  0.000000  1.268042  5  1\n",
       "2013-01-02 -0.213068  1.591035  0.635077  5  2\n",
       "2013-01-03  1.035954 -0.469996 -0.029455  5  3\n",
       "2013-01-04  0.415059  0.385848  1.747248  5  4\n",
       "2013-01-05  0.608917 -0.320133 -0.074571  5  5\n",
       "2013-01-06  0.275156 -1.421548  0.805026  5  6"
      ]
     },
     "execution_count": 52,
     "metadata": {},
     "output_type": "execute_result"
    }
   ],
   "source": [
    "df['F'] = sl\n",
    "\n",
    "# Setting values by label\n",
    "df.at[dates[0], 'A'] = 0\n",
    "# setting values by position\n",
    "df.iat[0, 1] = 0\n",
    "# setting assigning with a NumPy array\n",
    "df.loc[:, 'D'] = np.array([5] * len(df))\n",
    "df"
   ]
  },
  {
   "cell_type": "code",
   "execution_count": 53,
   "metadata": {},
   "outputs": [
    {
     "data": {
      "text/html": [
       "<div>\n",
       "<style scoped>\n",
       "    .dataframe tbody tr th:only-of-type {\n",
       "        vertical-align: middle;\n",
       "    }\n",
       "\n",
       "    .dataframe tbody tr th {\n",
       "        vertical-align: top;\n",
       "    }\n",
       "\n",
       "    .dataframe thead th {\n",
       "        text-align: right;\n",
       "    }\n",
       "</style>\n",
       "<table border=\"1\" class=\"dataframe\">\n",
       "  <thead>\n",
       "    <tr style=\"text-align: right;\">\n",
       "      <th></th>\n",
       "      <th>A</th>\n",
       "      <th>B</th>\n",
       "      <th>C</th>\n",
       "      <th>D</th>\n",
       "      <th>F</th>\n",
       "    </tr>\n",
       "  </thead>\n",
       "  <tbody>\n",
       "    <tr>\n",
       "      <td>2013-01-01</td>\n",
       "      <td>0.000000</td>\n",
       "      <td>0.000000</td>\n",
       "      <td>-1.268042</td>\n",
       "      <td>-5</td>\n",
       "      <td>-1</td>\n",
       "    </tr>\n",
       "    <tr>\n",
       "      <td>2013-01-02</td>\n",
       "      <td>-0.213068</td>\n",
       "      <td>-1.591035</td>\n",
       "      <td>-0.635077</td>\n",
       "      <td>-5</td>\n",
       "      <td>-2</td>\n",
       "    </tr>\n",
       "    <tr>\n",
       "      <td>2013-01-03</td>\n",
       "      <td>-1.035954</td>\n",
       "      <td>-0.469996</td>\n",
       "      <td>-0.029455</td>\n",
       "      <td>-5</td>\n",
       "      <td>-3</td>\n",
       "    </tr>\n",
       "    <tr>\n",
       "      <td>2013-01-04</td>\n",
       "      <td>-0.415059</td>\n",
       "      <td>-0.385848</td>\n",
       "      <td>-1.747248</td>\n",
       "      <td>-5</td>\n",
       "      <td>-4</td>\n",
       "    </tr>\n",
       "    <tr>\n",
       "      <td>2013-01-05</td>\n",
       "      <td>-0.608917</td>\n",
       "      <td>-0.320133</td>\n",
       "      <td>-0.074571</td>\n",
       "      <td>-5</td>\n",
       "      <td>-5</td>\n",
       "    </tr>\n",
       "    <tr>\n",
       "      <td>2013-01-06</td>\n",
       "      <td>-0.275156</td>\n",
       "      <td>-1.421548</td>\n",
       "      <td>-0.805026</td>\n",
       "      <td>-5</td>\n",
       "      <td>-6</td>\n",
       "    </tr>\n",
       "  </tbody>\n",
       "</table>\n",
       "</div>"
      ],
      "text/plain": [
       "                   A         B         C  D  F\n",
       "2013-01-01  0.000000  0.000000 -1.268042 -5 -1\n",
       "2013-01-02 -0.213068 -1.591035 -0.635077 -5 -2\n",
       "2013-01-03 -1.035954 -0.469996 -0.029455 -5 -3\n",
       "2013-01-04 -0.415059 -0.385848 -1.747248 -5 -4\n",
       "2013-01-05 -0.608917 -0.320133 -0.074571 -5 -5\n",
       "2013-01-06 -0.275156 -1.421548 -0.805026 -5 -6"
      ]
     },
     "execution_count": 53,
     "metadata": {},
     "output_type": "execute_result"
    }
   ],
   "source": [
    "# A where operation with setting\n",
    "df2 = df.copy()\n",
    "df2[df2 > 0] = -df2\n",
    "df2"
   ]
  },
  {
   "cell_type": "markdown",
   "metadata": {},
   "source": [
    "## Missing data\n",
    "### pandas primarily uses the value np.nan to represent missing data. it is by default not included in computations. \n",
    "\n",
    "### Reindexing allows you to change/add/delete the index on a specified axis This returns a copy of the data."
   ]
  },
  {
   "cell_type": "code",
   "execution_count": 54,
   "metadata": {},
   "outputs": [
    {
     "data": {
      "text/html": [
       "<div>\n",
       "<style scoped>\n",
       "    .dataframe tbody tr th:only-of-type {\n",
       "        vertical-align: middle;\n",
       "    }\n",
       "\n",
       "    .dataframe tbody tr th {\n",
       "        vertical-align: top;\n",
       "    }\n",
       "\n",
       "    .dataframe thead th {\n",
       "        text-align: right;\n",
       "    }\n",
       "</style>\n",
       "<table border=\"1\" class=\"dataframe\">\n",
       "  <thead>\n",
       "    <tr style=\"text-align: right;\">\n",
       "      <th></th>\n",
       "      <th>A</th>\n",
       "      <th>B</th>\n",
       "      <th>C</th>\n",
       "      <th>D</th>\n",
       "      <th>F</th>\n",
       "      <th>E</th>\n",
       "    </tr>\n",
       "  </thead>\n",
       "  <tbody>\n",
       "    <tr>\n",
       "      <td>2013-01-01</td>\n",
       "      <td>0.000000</td>\n",
       "      <td>0.000000</td>\n",
       "      <td>1.268042</td>\n",
       "      <td>5</td>\n",
       "      <td>1</td>\n",
       "      <td>1.0</td>\n",
       "    </tr>\n",
       "    <tr>\n",
       "      <td>2013-01-02</td>\n",
       "      <td>-0.213068</td>\n",
       "      <td>1.591035</td>\n",
       "      <td>0.635077</td>\n",
       "      <td>5</td>\n",
       "      <td>2</td>\n",
       "      <td>1.0</td>\n",
       "    </tr>\n",
       "    <tr>\n",
       "      <td>2013-01-03</td>\n",
       "      <td>1.035954</td>\n",
       "      <td>-0.469996</td>\n",
       "      <td>-0.029455</td>\n",
       "      <td>5</td>\n",
       "      <td>3</td>\n",
       "      <td>NaN</td>\n",
       "    </tr>\n",
       "    <tr>\n",
       "      <td>2013-01-04</td>\n",
       "      <td>0.415059</td>\n",
       "      <td>0.385848</td>\n",
       "      <td>1.747248</td>\n",
       "      <td>5</td>\n",
       "      <td>4</td>\n",
       "      <td>NaN</td>\n",
       "    </tr>\n",
       "  </tbody>\n",
       "</table>\n",
       "</div>"
      ],
      "text/plain": [
       "                   A         B         C  D  F    E\n",
       "2013-01-01  0.000000  0.000000  1.268042  5  1  1.0\n",
       "2013-01-02 -0.213068  1.591035  0.635077  5  2  1.0\n",
       "2013-01-03  1.035954 -0.469996 -0.029455  5  3  NaN\n",
       "2013-01-04  0.415059  0.385848  1.747248  5  4  NaN"
      ]
     },
     "execution_count": 54,
     "metadata": {},
     "output_type": "execute_result"
    }
   ],
   "source": [
    "df1 = df.reindex(index=dates[0:4], columns=list(df.columns) + ['E'])\n",
    "df1.loc[dates[0]:dates[1], 'E'] = 1\n",
    "df1"
   ]
  },
  {
   "cell_type": "code",
   "execution_count": 55,
   "metadata": {},
   "outputs": [
    {
     "data": {
      "text/html": [
       "<div>\n",
       "<style scoped>\n",
       "    .dataframe tbody tr th:only-of-type {\n",
       "        vertical-align: middle;\n",
       "    }\n",
       "\n",
       "    .dataframe tbody tr th {\n",
       "        vertical-align: top;\n",
       "    }\n",
       "\n",
       "    .dataframe thead th {\n",
       "        text-align: right;\n",
       "    }\n",
       "</style>\n",
       "<table border=\"1\" class=\"dataframe\">\n",
       "  <thead>\n",
       "    <tr style=\"text-align: right;\">\n",
       "      <th></th>\n",
       "      <th>A</th>\n",
       "      <th>B</th>\n",
       "      <th>C</th>\n",
       "      <th>D</th>\n",
       "      <th>F</th>\n",
       "      <th>E</th>\n",
       "    </tr>\n",
       "  </thead>\n",
       "  <tbody>\n",
       "    <tr>\n",
       "      <td>2013-01-01</td>\n",
       "      <td>0.000000</td>\n",
       "      <td>0.000000</td>\n",
       "      <td>1.268042</td>\n",
       "      <td>5</td>\n",
       "      <td>1</td>\n",
       "      <td>1.0</td>\n",
       "    </tr>\n",
       "    <tr>\n",
       "      <td>2013-01-02</td>\n",
       "      <td>-0.213068</td>\n",
       "      <td>1.591035</td>\n",
       "      <td>0.635077</td>\n",
       "      <td>5</td>\n",
       "      <td>2</td>\n",
       "      <td>1.0</td>\n",
       "    </tr>\n",
       "  </tbody>\n",
       "</table>\n",
       "</div>"
      ],
      "text/plain": [
       "                   A         B         C  D  F    E\n",
       "2013-01-01  0.000000  0.000000  1.268042  5  1  1.0\n",
       "2013-01-02 -0.213068  1.591035  0.635077  5  2  1.0"
      ]
     },
     "execution_count": 55,
     "metadata": {},
     "output_type": "execute_result"
    }
   ],
   "source": [
    "# To drop any rows that have missing data.\n",
    "df1.dropna(how='any')"
   ]
  },
  {
   "cell_type": "code",
   "execution_count": 57,
   "metadata": {},
   "outputs": [
    {
     "data": {
      "text/html": [
       "<div>\n",
       "<style scoped>\n",
       "    .dataframe tbody tr th:only-of-type {\n",
       "        vertical-align: middle;\n",
       "    }\n",
       "\n",
       "    .dataframe tbody tr th {\n",
       "        vertical-align: top;\n",
       "    }\n",
       "\n",
       "    .dataframe thead th {\n",
       "        text-align: right;\n",
       "    }\n",
       "</style>\n",
       "<table border=\"1\" class=\"dataframe\">\n",
       "  <thead>\n",
       "    <tr style=\"text-align: right;\">\n",
       "      <th></th>\n",
       "      <th>A</th>\n",
       "      <th>B</th>\n",
       "      <th>C</th>\n",
       "      <th>D</th>\n",
       "      <th>F</th>\n",
       "      <th>E</th>\n",
       "    </tr>\n",
       "  </thead>\n",
       "  <tbody>\n",
       "    <tr>\n",
       "      <td>2013-01-01</td>\n",
       "      <td>0.000000</td>\n",
       "      <td>0.000000</td>\n",
       "      <td>1.268042</td>\n",
       "      <td>5</td>\n",
       "      <td>1</td>\n",
       "      <td>1.0</td>\n",
       "    </tr>\n",
       "    <tr>\n",
       "      <td>2013-01-02</td>\n",
       "      <td>-0.213068</td>\n",
       "      <td>1.591035</td>\n",
       "      <td>0.635077</td>\n",
       "      <td>5</td>\n",
       "      <td>2</td>\n",
       "      <td>1.0</td>\n",
       "    </tr>\n",
       "    <tr>\n",
       "      <td>2013-01-03</td>\n",
       "      <td>1.035954</td>\n",
       "      <td>-0.469996</td>\n",
       "      <td>-0.029455</td>\n",
       "      <td>5</td>\n",
       "      <td>3</td>\n",
       "      <td>5.0</td>\n",
       "    </tr>\n",
       "    <tr>\n",
       "      <td>2013-01-04</td>\n",
       "      <td>0.415059</td>\n",
       "      <td>0.385848</td>\n",
       "      <td>1.747248</td>\n",
       "      <td>5</td>\n",
       "      <td>4</td>\n",
       "      <td>5.0</td>\n",
       "    </tr>\n",
       "  </tbody>\n",
       "</table>\n",
       "</div>"
      ],
      "text/plain": [
       "                   A         B         C  D  F    E\n",
       "2013-01-01  0.000000  0.000000  1.268042  5  1  1.0\n",
       "2013-01-02 -0.213068  1.591035  0.635077  5  2  1.0\n",
       "2013-01-03  1.035954 -0.469996 -0.029455  5  3  5.0\n",
       "2013-01-04  0.415059  0.385848  1.747248  5  4  5.0"
      ]
     },
     "execution_count": 57,
     "metadata": {},
     "output_type": "execute_result"
    }
   ],
   "source": [
    "# filling missing data\n",
    "df1.fillna(value=5)"
   ]
  },
  {
   "cell_type": "code",
   "execution_count": 58,
   "metadata": {},
   "outputs": [
    {
     "data": {
      "text/html": [
       "<div>\n",
       "<style scoped>\n",
       "    .dataframe tbody tr th:only-of-type {\n",
       "        vertical-align: middle;\n",
       "    }\n",
       "\n",
       "    .dataframe tbody tr th {\n",
       "        vertical-align: top;\n",
       "    }\n",
       "\n",
       "    .dataframe thead th {\n",
       "        text-align: right;\n",
       "    }\n",
       "</style>\n",
       "<table border=\"1\" class=\"dataframe\">\n",
       "  <thead>\n",
       "    <tr style=\"text-align: right;\">\n",
       "      <th></th>\n",
       "      <th>A</th>\n",
       "      <th>B</th>\n",
       "      <th>C</th>\n",
       "      <th>D</th>\n",
       "      <th>F</th>\n",
       "      <th>E</th>\n",
       "    </tr>\n",
       "  </thead>\n",
       "  <tbody>\n",
       "    <tr>\n",
       "      <td>2013-01-01</td>\n",
       "      <td>False</td>\n",
       "      <td>False</td>\n",
       "      <td>False</td>\n",
       "      <td>False</td>\n",
       "      <td>False</td>\n",
       "      <td>False</td>\n",
       "    </tr>\n",
       "    <tr>\n",
       "      <td>2013-01-02</td>\n",
       "      <td>False</td>\n",
       "      <td>False</td>\n",
       "      <td>False</td>\n",
       "      <td>False</td>\n",
       "      <td>False</td>\n",
       "      <td>False</td>\n",
       "    </tr>\n",
       "    <tr>\n",
       "      <td>2013-01-03</td>\n",
       "      <td>False</td>\n",
       "      <td>False</td>\n",
       "      <td>False</td>\n",
       "      <td>False</td>\n",
       "      <td>False</td>\n",
       "      <td>True</td>\n",
       "    </tr>\n",
       "    <tr>\n",
       "      <td>2013-01-04</td>\n",
       "      <td>False</td>\n",
       "      <td>False</td>\n",
       "      <td>False</td>\n",
       "      <td>False</td>\n",
       "      <td>False</td>\n",
       "      <td>True</td>\n",
       "    </tr>\n",
       "  </tbody>\n",
       "</table>\n",
       "</div>"
      ],
      "text/plain": [
       "                A      B      C      D      F      E\n",
       "2013-01-01  False  False  False  False  False  False\n",
       "2013-01-02  False  False  False  False  False  False\n",
       "2013-01-03  False  False  False  False  False   True\n",
       "2013-01-04  False  False  False  False  False   True"
      ]
     },
     "execution_count": 58,
     "metadata": {},
     "output_type": "execute_result"
    }
   ],
   "source": [
    "# To get boolean mask where values are nan\n",
    "pd.isna(df1)"
   ]
  },
  {
   "cell_type": "markdown",
   "metadata": {},
   "source": [
    "## Operations"
   ]
  },
  {
   "cell_type": "markdown",
   "metadata": {},
   "source": [
    "# stats"
   ]
  },
  {
   "cell_type": "code",
   "execution_count": 59,
   "metadata": {},
   "outputs": [
    {
     "data": {
      "text/plain": [
       "A    0.353670\n",
       "B   -0.039132\n",
       "C    0.725228\n",
       "D    5.000000\n",
       "F    3.500000\n",
       "dtype: float64"
      ]
     },
     "execution_count": 59,
     "metadata": {},
     "output_type": "execute_result"
    }
   ],
   "source": [
    "df.mean()"
   ]
  },
  {
   "cell_type": "code",
   "execution_count": 60,
   "metadata": {},
   "outputs": [
    {
     "data": {
      "text/plain": [
       "2013-01-01    1.453608\n",
       "2013-01-02    1.802609\n",
       "2013-01-03    1.707301\n",
       "2013-01-04    2.309631\n",
       "2013-01-05    2.042843\n",
       "2013-01-06    2.131727\n",
       "Freq: D, dtype: float64"
      ]
     },
     "execution_count": 60,
     "metadata": {},
     "output_type": "execute_result"
    }
   ],
   "source": [
    "# same operation on the other axis\n",
    "df.mean(1)"
   ]
  },
  {
   "cell_type": "markdown",
   "metadata": {},
   "source": [
    "Operating with objects that have different dimensionality and need alignment. In addition, pandas automatically broadcast along the specified dimension"
   ]
  },
  {
   "cell_type": "code",
   "execution_count": 66,
   "metadata": {},
   "outputs": [
    {
     "data": {
      "text/plain": [
       "2013-01-01    1.0\n",
       "2013-01-02    3.0\n",
       "2013-01-03    5.0\n",
       "2013-01-04    NaN\n",
       "2013-01-05    6.0\n",
       "2013-01-06    8.0\n",
       "Freq: D, dtype: float64"
      ]
     },
     "execution_count": 66,
     "metadata": {},
     "output_type": "execute_result"
    }
   ],
   "source": [
    "s = pd.Series([1, 3, 5, np.nan, 6, 8], index=dates).shift(0)\n",
    "s"
   ]
  },
  {
   "cell_type": "code",
   "execution_count": 67,
   "metadata": {},
   "outputs": [
    {
     "data": {
      "text/html": [
       "<div>\n",
       "<style scoped>\n",
       "    .dataframe tbody tr th:only-of-type {\n",
       "        vertical-align: middle;\n",
       "    }\n",
       "\n",
       "    .dataframe tbody tr th {\n",
       "        vertical-align: top;\n",
       "    }\n",
       "\n",
       "    .dataframe thead th {\n",
       "        text-align: right;\n",
       "    }\n",
       "</style>\n",
       "<table border=\"1\" class=\"dataframe\">\n",
       "  <thead>\n",
       "    <tr style=\"text-align: right;\">\n",
       "      <th></th>\n",
       "      <th>A</th>\n",
       "      <th>B</th>\n",
       "      <th>C</th>\n",
       "      <th>D</th>\n",
       "      <th>F</th>\n",
       "    </tr>\n",
       "  </thead>\n",
       "  <tbody>\n",
       "    <tr>\n",
       "      <td>2013-01-01</td>\n",
       "      <td>-1.000000</td>\n",
       "      <td>-1.000000</td>\n",
       "      <td>0.268042</td>\n",
       "      <td>4.0</td>\n",
       "      <td>0.0</td>\n",
       "    </tr>\n",
       "    <tr>\n",
       "      <td>2013-01-02</td>\n",
       "      <td>-3.213068</td>\n",
       "      <td>-1.408965</td>\n",
       "      <td>-2.364923</td>\n",
       "      <td>2.0</td>\n",
       "      <td>-1.0</td>\n",
       "    </tr>\n",
       "    <tr>\n",
       "      <td>2013-01-03</td>\n",
       "      <td>-3.964046</td>\n",
       "      <td>-5.469996</td>\n",
       "      <td>-5.029455</td>\n",
       "      <td>0.0</td>\n",
       "      <td>-2.0</td>\n",
       "    </tr>\n",
       "    <tr>\n",
       "      <td>2013-01-04</td>\n",
       "      <td>NaN</td>\n",
       "      <td>NaN</td>\n",
       "      <td>NaN</td>\n",
       "      <td>NaN</td>\n",
       "      <td>NaN</td>\n",
       "    </tr>\n",
       "    <tr>\n",
       "      <td>2013-01-05</td>\n",
       "      <td>-5.391083</td>\n",
       "      <td>-6.320133</td>\n",
       "      <td>-6.074571</td>\n",
       "      <td>-1.0</td>\n",
       "      <td>-1.0</td>\n",
       "    </tr>\n",
       "    <tr>\n",
       "      <td>2013-01-06</td>\n",
       "      <td>-7.724844</td>\n",
       "      <td>-9.421548</td>\n",
       "      <td>-7.194974</td>\n",
       "      <td>-3.0</td>\n",
       "      <td>-2.0</td>\n",
       "    </tr>\n",
       "  </tbody>\n",
       "</table>\n",
       "</div>"
      ],
      "text/plain": [
       "                   A         B         C    D    F\n",
       "2013-01-01 -1.000000 -1.000000  0.268042  4.0  0.0\n",
       "2013-01-02 -3.213068 -1.408965 -2.364923  2.0 -1.0\n",
       "2013-01-03 -3.964046 -5.469996 -5.029455  0.0 -2.0\n",
       "2013-01-04       NaN       NaN       NaN  NaN  NaN\n",
       "2013-01-05 -5.391083 -6.320133 -6.074571 -1.0 -1.0\n",
       "2013-01-06 -7.724844 -9.421548 -7.194974 -3.0 -2.0"
      ]
     },
     "execution_count": 67,
     "metadata": {},
     "output_type": "execute_result"
    }
   ],
   "source": [
    "df.sub(s, axis='index')"
   ]
  },
  {
   "cell_type": "markdown",
   "metadata": {},
   "source": [
    "## Apply\n",
    "Applying functions to the data"
   ]
  },
  {
   "cell_type": "code",
   "execution_count": 68,
   "metadata": {},
   "outputs": [
    {
     "data": {
      "text/html": [
       "<div>\n",
       "<style scoped>\n",
       "    .dataframe tbody tr th:only-of-type {\n",
       "        vertical-align: middle;\n",
       "    }\n",
       "\n",
       "    .dataframe tbody tr th {\n",
       "        vertical-align: top;\n",
       "    }\n",
       "\n",
       "    .dataframe thead th {\n",
       "        text-align: right;\n",
       "    }\n",
       "</style>\n",
       "<table border=\"1\" class=\"dataframe\">\n",
       "  <thead>\n",
       "    <tr style=\"text-align: right;\">\n",
       "      <th></th>\n",
       "      <th>A</th>\n",
       "      <th>B</th>\n",
       "      <th>C</th>\n",
       "      <th>D</th>\n",
       "      <th>F</th>\n",
       "    </tr>\n",
       "  </thead>\n",
       "  <tbody>\n",
       "    <tr>\n",
       "      <td>2013-01-01</td>\n",
       "      <td>0.000000</td>\n",
       "      <td>0.000000</td>\n",
       "      <td>1.268042</td>\n",
       "      <td>5</td>\n",
       "      <td>1</td>\n",
       "    </tr>\n",
       "    <tr>\n",
       "      <td>2013-01-02</td>\n",
       "      <td>-0.213068</td>\n",
       "      <td>1.591035</td>\n",
       "      <td>1.903119</td>\n",
       "      <td>10</td>\n",
       "      <td>3</td>\n",
       "    </tr>\n",
       "    <tr>\n",
       "      <td>2013-01-03</td>\n",
       "      <td>0.822886</td>\n",
       "      <td>1.121038</td>\n",
       "      <td>1.873664</td>\n",
       "      <td>15</td>\n",
       "      <td>6</td>\n",
       "    </tr>\n",
       "    <tr>\n",
       "      <td>2013-01-04</td>\n",
       "      <td>1.237944</td>\n",
       "      <td>1.506887</td>\n",
       "      <td>3.620912</td>\n",
       "      <td>20</td>\n",
       "      <td>10</td>\n",
       "    </tr>\n",
       "    <tr>\n",
       "      <td>2013-01-05</td>\n",
       "      <td>1.846861</td>\n",
       "      <td>1.186753</td>\n",
       "      <td>3.546341</td>\n",
       "      <td>25</td>\n",
       "      <td>15</td>\n",
       "    </tr>\n",
       "    <tr>\n",
       "      <td>2013-01-06</td>\n",
       "      <td>2.122018</td>\n",
       "      <td>-0.234795</td>\n",
       "      <td>4.351367</td>\n",
       "      <td>30</td>\n",
       "      <td>21</td>\n",
       "    </tr>\n",
       "  </tbody>\n",
       "</table>\n",
       "</div>"
      ],
      "text/plain": [
       "                   A         B         C   D   F\n",
       "2013-01-01  0.000000  0.000000  1.268042   5   1\n",
       "2013-01-02 -0.213068  1.591035  1.903119  10   3\n",
       "2013-01-03  0.822886  1.121038  1.873664  15   6\n",
       "2013-01-04  1.237944  1.506887  3.620912  20  10\n",
       "2013-01-05  1.846861  1.186753  3.546341  25  15\n",
       "2013-01-06  2.122018 -0.234795  4.351367  30  21"
      ]
     },
     "execution_count": 68,
     "metadata": {},
     "output_type": "execute_result"
    }
   ],
   "source": [
    "df.apply(np.cumsum)"
   ]
  },
  {
   "cell_type": "code",
   "execution_count": 69,
   "metadata": {},
   "outputs": [
    {
     "data": {
      "text/plain": [
       "A    1.249022\n",
       "B    3.012583\n",
       "C    1.821819\n",
       "D    0.000000\n",
       "F    5.000000\n",
       "dtype: float64"
      ]
     },
     "execution_count": 69,
     "metadata": {},
     "output_type": "execute_result"
    }
   ],
   "source": [
    "df.apply(lambda x: x.max() - x.min())"
   ]
  },
  {
   "cell_type": "markdown",
   "metadata": {},
   "source": [
    "## Histogramming"
   ]
  },
  {
   "cell_type": "code",
   "execution_count": 70,
   "metadata": {},
   "outputs": [
    {
     "data": {
      "text/plain": [
       "0    3\n",
       "1    6\n",
       "2    2\n",
       "3    4\n",
       "4    0\n",
       "5    6\n",
       "6    4\n",
       "7    5\n",
       "8    6\n",
       "9    2\n",
       "dtype: int64"
      ]
     },
     "execution_count": 70,
     "metadata": {},
     "output_type": "execute_result"
    }
   ],
   "source": [
    "s = pd.Series(np.random.randint(0, 7, size=10))\n",
    "s"
   ]
  },
  {
   "cell_type": "code",
   "execution_count": 71,
   "metadata": {},
   "outputs": [
    {
     "data": {
      "text/plain": [
       "6    3\n",
       "4    2\n",
       "2    2\n",
       "5    1\n",
       "3    1\n",
       "0    1\n",
       "dtype: int64"
      ]
     },
     "execution_count": 71,
     "metadata": {},
     "output_type": "execute_result"
    }
   ],
   "source": [
    "s.value_counts()"
   ]
  },
  {
   "cell_type": "markdown",
   "metadata": {},
   "source": [
    "# String methods\n",
    "\n",
    "Series is equipped with a set of string processing methods in the str atribute that make it easy to operate on each element of the array, as in the code snipper below. Note that pattern-matching in str generally uses regular expressions by default (and in some cases always uses them). See more at Vectorized String Methods"
   ]
  },
  {
   "cell_type": "code",
   "execution_count": 73,
   "metadata": {},
   "outputs": [
    {
     "data": {
      "text/plain": [
       "0       a\n",
       "1       b\n",
       "2       c\n",
       "3    aaba\n",
       "4    baca\n",
       "5     NaN\n",
       "6    caba\n",
       "7     dog\n",
       "8     cat\n",
       "dtype: object"
      ]
     },
     "execution_count": 73,
     "metadata": {},
     "output_type": "execute_result"
    }
   ],
   "source": [
    "s = pd.Series(['A', 'B', 'C', 'Aaba', 'Baca', np.nan, 'CABA', 'dog', 'cat'])\n",
    "s.str.lower()"
   ]
  },
  {
   "cell_type": "markdown",
   "metadata": {},
   "source": [
    "## Merge"
   ]
  },
  {
   "cell_type": "markdown",
   "metadata": {},
   "source": [
    "### Concat\n",
    "\n",
    "pandas provides various facilities for easily combining together Series and DataFrame objects with various kinds of set logic for the indexes and relational algebra functionality in the case of join/merge-type operations.\n",
    "\n",
    "Concenating pandas objects together with concat()"
   ]
  },
  {
   "cell_type": "code",
   "execution_count": 74,
   "metadata": {},
   "outputs": [
    {
     "data": {
      "text/html": [
       "<div>\n",
       "<style scoped>\n",
       "    .dataframe tbody tr th:only-of-type {\n",
       "        vertical-align: middle;\n",
       "    }\n",
       "\n",
       "    .dataframe tbody tr th {\n",
       "        vertical-align: top;\n",
       "    }\n",
       "\n",
       "    .dataframe thead th {\n",
       "        text-align: right;\n",
       "    }\n",
       "</style>\n",
       "<table border=\"1\" class=\"dataframe\">\n",
       "  <thead>\n",
       "    <tr style=\"text-align: right;\">\n",
       "      <th></th>\n",
       "      <th>0</th>\n",
       "      <th>1</th>\n",
       "      <th>2</th>\n",
       "      <th>3</th>\n",
       "    </tr>\n",
       "  </thead>\n",
       "  <tbody>\n",
       "    <tr>\n",
       "      <td>0</td>\n",
       "      <td>0.193619</td>\n",
       "      <td>0.830896</td>\n",
       "      <td>-1.212274</td>\n",
       "      <td>-1.766032</td>\n",
       "    </tr>\n",
       "    <tr>\n",
       "      <td>1</td>\n",
       "      <td>-0.175286</td>\n",
       "      <td>1.323739</td>\n",
       "      <td>0.257455</td>\n",
       "      <td>0.464991</td>\n",
       "    </tr>\n",
       "    <tr>\n",
       "      <td>2</td>\n",
       "      <td>1.762856</td>\n",
       "      <td>0.482246</td>\n",
       "      <td>0.142623</td>\n",
       "      <td>-0.167010</td>\n",
       "    </tr>\n",
       "    <tr>\n",
       "      <td>3</td>\n",
       "      <td>-0.450716</td>\n",
       "      <td>1.519136</td>\n",
       "      <td>-1.110599</td>\n",
       "      <td>-1.340405</td>\n",
       "    </tr>\n",
       "    <tr>\n",
       "      <td>4</td>\n",
       "      <td>0.013019</td>\n",
       "      <td>0.923677</td>\n",
       "      <td>-0.376754</td>\n",
       "      <td>1.321866</td>\n",
       "    </tr>\n",
       "    <tr>\n",
       "      <td>5</td>\n",
       "      <td>1.701870</td>\n",
       "      <td>0.009025</td>\n",
       "      <td>1.086406</td>\n",
       "      <td>-0.959043</td>\n",
       "    </tr>\n",
       "    <tr>\n",
       "      <td>6</td>\n",
       "      <td>0.554710</td>\n",
       "      <td>2.154343</td>\n",
       "      <td>-0.078169</td>\n",
       "      <td>-0.153520</td>\n",
       "    </tr>\n",
       "    <tr>\n",
       "      <td>7</td>\n",
       "      <td>-0.079441</td>\n",
       "      <td>-1.747661</td>\n",
       "      <td>-0.181421</td>\n",
       "      <td>0.166880</td>\n",
       "    </tr>\n",
       "    <tr>\n",
       "      <td>8</td>\n",
       "      <td>1.087745</td>\n",
       "      <td>0.747279</td>\n",
       "      <td>-1.273325</td>\n",
       "      <td>1.507937</td>\n",
       "    </tr>\n",
       "    <tr>\n",
       "      <td>9</td>\n",
       "      <td>-0.205952</td>\n",
       "      <td>-1.329401</td>\n",
       "      <td>1.285564</td>\n",
       "      <td>-0.530546</td>\n",
       "    </tr>\n",
       "  </tbody>\n",
       "</table>\n",
       "</div>"
      ],
      "text/plain": [
       "          0         1         2         3\n",
       "0  0.193619  0.830896 -1.212274 -1.766032\n",
       "1 -0.175286  1.323739  0.257455  0.464991\n",
       "2  1.762856  0.482246  0.142623 -0.167010\n",
       "3 -0.450716  1.519136 -1.110599 -1.340405\n",
       "4  0.013019  0.923677 -0.376754  1.321866\n",
       "5  1.701870  0.009025  1.086406 -0.959043\n",
       "6  0.554710  2.154343 -0.078169 -0.153520\n",
       "7 -0.079441 -1.747661 -0.181421  0.166880\n",
       "8  1.087745  0.747279 -1.273325  1.507937\n",
       "9 -0.205952 -1.329401  1.285564 -0.530546"
      ]
     },
     "execution_count": 74,
     "metadata": {},
     "output_type": "execute_result"
    }
   ],
   "source": [
    "df = pd.DataFrame(np.random.randn(10, 4))\n",
    "df"
   ]
  },
  {
   "cell_type": "code",
   "execution_count": 76,
   "metadata": {},
   "outputs": [
    {
     "data": {
      "text/plain": [
       "[          0         1         2         3\n",
       " 0  0.193619  0.830896 -1.212274 -1.766032\n",
       " 1 -0.175286  1.323739  0.257455  0.464991\n",
       " 2  1.762856  0.482246  0.142623 -0.167010,\n",
       "           0         1         2         3\n",
       " 3 -0.450716  1.519136 -1.110599 -1.340405\n",
       " 4  0.013019  0.923677 -0.376754  1.321866\n",
       " 5  1.701870  0.009025  1.086406 -0.959043\n",
       " 6  0.554710  2.154343 -0.078169 -0.153520,\n",
       "           0         1         2         3\n",
       " 7 -0.079441 -1.747661 -0.181421  0.166880\n",
       " 8  1.087745  0.747279 -1.273325  1.507937\n",
       " 9 -0.205952 -1.329401  1.285564 -0.530546]"
      ]
     },
     "execution_count": 76,
     "metadata": {},
     "output_type": "execute_result"
    }
   ],
   "source": [
    "# break it into pieces\n",
    "pieces = [df[:3], df[3:7], df[7:]]\n",
    "pieces"
   ]
  },
  {
   "cell_type": "code",
   "execution_count": 77,
   "metadata": {},
   "outputs": [
    {
     "data": {
      "text/html": [
       "<div>\n",
       "<style scoped>\n",
       "    .dataframe tbody tr th:only-of-type {\n",
       "        vertical-align: middle;\n",
       "    }\n",
       "\n",
       "    .dataframe tbody tr th {\n",
       "        vertical-align: top;\n",
       "    }\n",
       "\n",
       "    .dataframe thead th {\n",
       "        text-align: right;\n",
       "    }\n",
       "</style>\n",
       "<table border=\"1\" class=\"dataframe\">\n",
       "  <thead>\n",
       "    <tr style=\"text-align: right;\">\n",
       "      <th></th>\n",
       "      <th>0</th>\n",
       "      <th>1</th>\n",
       "      <th>2</th>\n",
       "      <th>3</th>\n",
       "    </tr>\n",
       "  </thead>\n",
       "  <tbody>\n",
       "    <tr>\n",
       "      <td>0</td>\n",
       "      <td>0.193619</td>\n",
       "      <td>0.830896</td>\n",
       "      <td>-1.212274</td>\n",
       "      <td>-1.766032</td>\n",
       "    </tr>\n",
       "    <tr>\n",
       "      <td>1</td>\n",
       "      <td>-0.175286</td>\n",
       "      <td>1.323739</td>\n",
       "      <td>0.257455</td>\n",
       "      <td>0.464991</td>\n",
       "    </tr>\n",
       "    <tr>\n",
       "      <td>2</td>\n",
       "      <td>1.762856</td>\n",
       "      <td>0.482246</td>\n",
       "      <td>0.142623</td>\n",
       "      <td>-0.167010</td>\n",
       "    </tr>\n",
       "    <tr>\n",
       "      <td>3</td>\n",
       "      <td>-0.450716</td>\n",
       "      <td>1.519136</td>\n",
       "      <td>-1.110599</td>\n",
       "      <td>-1.340405</td>\n",
       "    </tr>\n",
       "    <tr>\n",
       "      <td>4</td>\n",
       "      <td>0.013019</td>\n",
       "      <td>0.923677</td>\n",
       "      <td>-0.376754</td>\n",
       "      <td>1.321866</td>\n",
       "    </tr>\n",
       "    <tr>\n",
       "      <td>5</td>\n",
       "      <td>1.701870</td>\n",
       "      <td>0.009025</td>\n",
       "      <td>1.086406</td>\n",
       "      <td>-0.959043</td>\n",
       "    </tr>\n",
       "    <tr>\n",
       "      <td>6</td>\n",
       "      <td>0.554710</td>\n",
       "      <td>2.154343</td>\n",
       "      <td>-0.078169</td>\n",
       "      <td>-0.153520</td>\n",
       "    </tr>\n",
       "    <tr>\n",
       "      <td>7</td>\n",
       "      <td>-0.079441</td>\n",
       "      <td>-1.747661</td>\n",
       "      <td>-0.181421</td>\n",
       "      <td>0.166880</td>\n",
       "    </tr>\n",
       "    <tr>\n",
       "      <td>8</td>\n",
       "      <td>1.087745</td>\n",
       "      <td>0.747279</td>\n",
       "      <td>-1.273325</td>\n",
       "      <td>1.507937</td>\n",
       "    </tr>\n",
       "    <tr>\n",
       "      <td>9</td>\n",
       "      <td>-0.205952</td>\n",
       "      <td>-1.329401</td>\n",
       "      <td>1.285564</td>\n",
       "      <td>-0.530546</td>\n",
       "    </tr>\n",
       "  </tbody>\n",
       "</table>\n",
       "</div>"
      ],
      "text/plain": [
       "          0         1         2         3\n",
       "0  0.193619  0.830896 -1.212274 -1.766032\n",
       "1 -0.175286  1.323739  0.257455  0.464991\n",
       "2  1.762856  0.482246  0.142623 -0.167010\n",
       "3 -0.450716  1.519136 -1.110599 -1.340405\n",
       "4  0.013019  0.923677 -0.376754  1.321866\n",
       "5  1.701870  0.009025  1.086406 -0.959043\n",
       "6  0.554710  2.154343 -0.078169 -0.153520\n",
       "7 -0.079441 -1.747661 -0.181421  0.166880\n",
       "8  1.087745  0.747279 -1.273325  1.507937\n",
       "9 -0.205952 -1.329401  1.285564 -0.530546"
      ]
     },
     "execution_count": 77,
     "metadata": {},
     "output_type": "execute_result"
    }
   ],
   "source": [
    "pd.concat(pieces)"
   ]
  },
  {
   "cell_type": "markdown",
   "metadata": {},
   "source": [
    "## Join\n",
    "\n",
    "### SQL style merges. See the Database style joining section"
   ]
  },
  {
   "cell_type": "code",
   "execution_count": 78,
   "metadata": {},
   "outputs": [
    {
     "data": {
      "text/html": [
       "<div>\n",
       "<style scoped>\n",
       "    .dataframe tbody tr th:only-of-type {\n",
       "        vertical-align: middle;\n",
       "    }\n",
       "\n",
       "    .dataframe tbody tr th {\n",
       "        vertical-align: top;\n",
       "    }\n",
       "\n",
       "    .dataframe thead th {\n",
       "        text-align: right;\n",
       "    }\n",
       "</style>\n",
       "<table border=\"1\" class=\"dataframe\">\n",
       "  <thead>\n",
       "    <tr style=\"text-align: right;\">\n",
       "      <th></th>\n",
       "      <th>key</th>\n",
       "      <th>lval</th>\n",
       "    </tr>\n",
       "  </thead>\n",
       "  <tbody>\n",
       "    <tr>\n",
       "      <td>0</td>\n",
       "      <td>foo</td>\n",
       "      <td>1</td>\n",
       "    </tr>\n",
       "    <tr>\n",
       "      <td>1</td>\n",
       "      <td>foo</td>\n",
       "      <td>2</td>\n",
       "    </tr>\n",
       "  </tbody>\n",
       "</table>\n",
       "</div>"
      ],
      "text/plain": [
       "   key  lval\n",
       "0  foo     1\n",
       "1  foo     2"
      ]
     },
     "execution_count": 78,
     "metadata": {},
     "output_type": "execute_result"
    }
   ],
   "source": [
    "left = pd.DataFrame({'key':['foo', 'foo'], 'lval': [1, 2]})\n",
    "right = pd.DataFrame({'key': ['foo','foo'], 'rval': [4, 5]})\n",
    "left"
   ]
  },
  {
   "cell_type": "code",
   "execution_count": 79,
   "metadata": {},
   "outputs": [
    {
     "data": {
      "text/html": [
       "<div>\n",
       "<style scoped>\n",
       "    .dataframe tbody tr th:only-of-type {\n",
       "        vertical-align: middle;\n",
       "    }\n",
       "\n",
       "    .dataframe tbody tr th {\n",
       "        vertical-align: top;\n",
       "    }\n",
       "\n",
       "    .dataframe thead th {\n",
       "        text-align: right;\n",
       "    }\n",
       "</style>\n",
       "<table border=\"1\" class=\"dataframe\">\n",
       "  <thead>\n",
       "    <tr style=\"text-align: right;\">\n",
       "      <th></th>\n",
       "      <th>key</th>\n",
       "      <th>rval</th>\n",
       "    </tr>\n",
       "  </thead>\n",
       "  <tbody>\n",
       "    <tr>\n",
       "      <td>0</td>\n",
       "      <td>foo</td>\n",
       "      <td>4</td>\n",
       "    </tr>\n",
       "    <tr>\n",
       "      <td>1</td>\n",
       "      <td>foo</td>\n",
       "      <td>5</td>\n",
       "    </tr>\n",
       "  </tbody>\n",
       "</table>\n",
       "</div>"
      ],
      "text/plain": [
       "   key  rval\n",
       "0  foo     4\n",
       "1  foo     5"
      ]
     },
     "execution_count": 79,
     "metadata": {},
     "output_type": "execute_result"
    }
   ],
   "source": [
    "right"
   ]
  },
  {
   "cell_type": "code",
   "execution_count": 80,
   "metadata": {},
   "outputs": [
    {
     "data": {
      "text/html": [
       "<div>\n",
       "<style scoped>\n",
       "    .dataframe tbody tr th:only-of-type {\n",
       "        vertical-align: middle;\n",
       "    }\n",
       "\n",
       "    .dataframe tbody tr th {\n",
       "        vertical-align: top;\n",
       "    }\n",
       "\n",
       "    .dataframe thead th {\n",
       "        text-align: right;\n",
       "    }\n",
       "</style>\n",
       "<table border=\"1\" class=\"dataframe\">\n",
       "  <thead>\n",
       "    <tr style=\"text-align: right;\">\n",
       "      <th></th>\n",
       "      <th>key</th>\n",
       "      <th>lval</th>\n",
       "      <th>rval</th>\n",
       "    </tr>\n",
       "  </thead>\n",
       "  <tbody>\n",
       "    <tr>\n",
       "      <td>0</td>\n",
       "      <td>foo</td>\n",
       "      <td>1</td>\n",
       "      <td>4</td>\n",
       "    </tr>\n",
       "    <tr>\n",
       "      <td>1</td>\n",
       "      <td>foo</td>\n",
       "      <td>1</td>\n",
       "      <td>5</td>\n",
       "    </tr>\n",
       "    <tr>\n",
       "      <td>2</td>\n",
       "      <td>foo</td>\n",
       "      <td>2</td>\n",
       "      <td>4</td>\n",
       "    </tr>\n",
       "    <tr>\n",
       "      <td>3</td>\n",
       "      <td>foo</td>\n",
       "      <td>2</td>\n",
       "      <td>5</td>\n",
       "    </tr>\n",
       "  </tbody>\n",
       "</table>\n",
       "</div>"
      ],
      "text/plain": [
       "   key  lval  rval\n",
       "0  foo     1     4\n",
       "1  foo     1     5\n",
       "2  foo     2     4\n",
       "3  foo     2     5"
      ]
     },
     "execution_count": 80,
     "metadata": {},
     "output_type": "execute_result"
    }
   ],
   "source": [
    "pd.merge(left, right, on='key')"
   ]
  },
  {
   "cell_type": "code",
   "execution_count": 81,
   "metadata": {},
   "outputs": [
    {
     "data": {
      "text/html": [
       "<div>\n",
       "<style scoped>\n",
       "    .dataframe tbody tr th:only-of-type {\n",
       "        vertical-align: middle;\n",
       "    }\n",
       "\n",
       "    .dataframe tbody tr th {\n",
       "        vertical-align: top;\n",
       "    }\n",
       "\n",
       "    .dataframe thead th {\n",
       "        text-align: right;\n",
       "    }\n",
       "</style>\n",
       "<table border=\"1\" class=\"dataframe\">\n",
       "  <thead>\n",
       "    <tr style=\"text-align: right;\">\n",
       "      <th></th>\n",
       "      <th>key</th>\n",
       "      <th>lval</th>\n",
       "      <th>rval</th>\n",
       "    </tr>\n",
       "  </thead>\n",
       "  <tbody>\n",
       "    <tr>\n",
       "      <td>0</td>\n",
       "      <td>foo</td>\n",
       "      <td>1</td>\n",
       "      <td>4</td>\n",
       "    </tr>\n",
       "    <tr>\n",
       "      <td>1</td>\n",
       "      <td>bar</td>\n",
       "      <td>2</td>\n",
       "      <td>5</td>\n",
       "    </tr>\n",
       "  </tbody>\n",
       "</table>\n",
       "</div>"
      ],
      "text/plain": [
       "   key  lval  rval\n",
       "0  foo     1     4\n",
       "1  bar     2     5"
      ]
     },
     "execution_count": 81,
     "metadata": {},
     "output_type": "execute_result"
    }
   ],
   "source": [
    "# Another example that can be given is\n",
    "left = pd.DataFrame({'key':['foo', 'bar'], 'lval': [1, 2]})\n",
    "right = pd.DataFrame({'key':['foo', 'bar'],'rval':[4, 5]})\n",
    "pd.merge(left, right, on='key')"
   ]
  },
  {
   "cell_type": "markdown",
   "metadata": {},
   "source": [
    "## Append\n",
    "### Append rows to a dataframe. See the Appending section."
   ]
  },
  {
   "cell_type": "code",
   "execution_count": 83,
   "metadata": {},
   "outputs": [
    {
     "data": {
      "text/html": [
       "<div>\n",
       "<style scoped>\n",
       "    .dataframe tbody tr th:only-of-type {\n",
       "        vertical-align: middle;\n",
       "    }\n",
       "\n",
       "    .dataframe tbody tr th {\n",
       "        vertical-align: top;\n",
       "    }\n",
       "\n",
       "    .dataframe thead th {\n",
       "        text-align: right;\n",
       "    }\n",
       "</style>\n",
       "<table border=\"1\" class=\"dataframe\">\n",
       "  <thead>\n",
       "    <tr style=\"text-align: right;\">\n",
       "      <th></th>\n",
       "      <th>A</th>\n",
       "      <th>B</th>\n",
       "      <th>C</th>\n",
       "      <th>D</th>\n",
       "    </tr>\n",
       "  </thead>\n",
       "  <tbody>\n",
       "    <tr>\n",
       "      <td>0</td>\n",
       "      <td>0.124276</td>\n",
       "      <td>-1.728765</td>\n",
       "      <td>0.972371</td>\n",
       "      <td>0.102769</td>\n",
       "    </tr>\n",
       "    <tr>\n",
       "      <td>1</td>\n",
       "      <td>1.921154</td>\n",
       "      <td>0.320637</td>\n",
       "      <td>1.354097</td>\n",
       "      <td>-0.807931</td>\n",
       "    </tr>\n",
       "    <tr>\n",
       "      <td>2</td>\n",
       "      <td>-0.761661</td>\n",
       "      <td>-0.195559</td>\n",
       "      <td>1.141010</td>\n",
       "      <td>1.238249</td>\n",
       "    </tr>\n",
       "    <tr>\n",
       "      <td>3</td>\n",
       "      <td>0.674839</td>\n",
       "      <td>0.570985</td>\n",
       "      <td>1.648972</td>\n",
       "      <td>-0.769958</td>\n",
       "    </tr>\n",
       "    <tr>\n",
       "      <td>4</td>\n",
       "      <td>-0.377163</td>\n",
       "      <td>1.417598</td>\n",
       "      <td>0.240719</td>\n",
       "      <td>-1.410642</td>\n",
       "    </tr>\n",
       "    <tr>\n",
       "      <td>5</td>\n",
       "      <td>-0.255782</td>\n",
       "      <td>-0.237140</td>\n",
       "      <td>-2.174441</td>\n",
       "      <td>2.245894</td>\n",
       "    </tr>\n",
       "    <tr>\n",
       "      <td>6</td>\n",
       "      <td>-0.436322</td>\n",
       "      <td>0.514174</td>\n",
       "      <td>-1.290648</td>\n",
       "      <td>0.633111</td>\n",
       "    </tr>\n",
       "    <tr>\n",
       "      <td>7</td>\n",
       "      <td>-1.669230</td>\n",
       "      <td>1.073116</td>\n",
       "      <td>-1.919866</td>\n",
       "      <td>-1.667891</td>\n",
       "    </tr>\n",
       "  </tbody>\n",
       "</table>\n",
       "</div>"
      ],
      "text/plain": [
       "          A         B         C         D\n",
       "0  0.124276 -1.728765  0.972371  0.102769\n",
       "1  1.921154  0.320637  1.354097 -0.807931\n",
       "2 -0.761661 -0.195559  1.141010  1.238249\n",
       "3  0.674839  0.570985  1.648972 -0.769958\n",
       "4 -0.377163  1.417598  0.240719 -1.410642\n",
       "5 -0.255782 -0.237140 -2.174441  2.245894\n",
       "6 -0.436322  0.514174 -1.290648  0.633111\n",
       "7 -1.669230  1.073116 -1.919866 -1.667891"
      ]
     },
     "execution_count": 83,
     "metadata": {},
     "output_type": "execute_result"
    }
   ],
   "source": [
    "df = pd.DataFrame(np.random.randn(8, 4), columns=['A', 'B', 'C', 'D'])\n",
    "df"
   ]
  },
  {
   "cell_type": "markdown",
   "metadata": {},
   "source": [
    "## Grouping\n",
    "\n",
    "By \"group by\" we are reffering to a process involving one or more of the following steps\n",
    "  > Splitting the data into groups based on some criteria\n",
    "  > Applying a function to each group independently\n",
    "  > combining the results into a data structure"
   ]
  },
  {
   "cell_type": "code",
   "execution_count": 84,
   "metadata": {},
   "outputs": [
    {
     "data": {
      "text/html": [
       "<div>\n",
       "<style scoped>\n",
       "    .dataframe tbody tr th:only-of-type {\n",
       "        vertical-align: middle;\n",
       "    }\n",
       "\n",
       "    .dataframe tbody tr th {\n",
       "        vertical-align: top;\n",
       "    }\n",
       "\n",
       "    .dataframe thead th {\n",
       "        text-align: right;\n",
       "    }\n",
       "</style>\n",
       "<table border=\"1\" class=\"dataframe\">\n",
       "  <thead>\n",
       "    <tr style=\"text-align: right;\">\n",
       "      <th></th>\n",
       "      <th>A</th>\n",
       "      <th>B</th>\n",
       "      <th>C</th>\n",
       "      <th>D</th>\n",
       "    </tr>\n",
       "  </thead>\n",
       "  <tbody>\n",
       "    <tr>\n",
       "      <td>0</td>\n",
       "      <td>foo</td>\n",
       "      <td>one</td>\n",
       "      <td>1.818608</td>\n",
       "      <td>0.363804</td>\n",
       "    </tr>\n",
       "    <tr>\n",
       "      <td>1</td>\n",
       "      <td>bar</td>\n",
       "      <td>one</td>\n",
       "      <td>0.485559</td>\n",
       "      <td>-0.066827</td>\n",
       "    </tr>\n",
       "    <tr>\n",
       "      <td>2</td>\n",
       "      <td>foo</td>\n",
       "      <td>two</td>\n",
       "      <td>-0.665980</td>\n",
       "      <td>0.793089</td>\n",
       "    </tr>\n",
       "    <tr>\n",
       "      <td>3</td>\n",
       "      <td>bar</td>\n",
       "      <td>three</td>\n",
       "      <td>-0.440829</td>\n",
       "      <td>-1.514183</td>\n",
       "    </tr>\n",
       "    <tr>\n",
       "      <td>4</td>\n",
       "      <td>foo</td>\n",
       "      <td>two</td>\n",
       "      <td>0.442421</td>\n",
       "      <td>0.845409</td>\n",
       "    </tr>\n",
       "    <tr>\n",
       "      <td>5</td>\n",
       "      <td>bar</td>\n",
       "      <td>two</td>\n",
       "      <td>-0.666253</td>\n",
       "      <td>-0.843824</td>\n",
       "    </tr>\n",
       "    <tr>\n",
       "      <td>6</td>\n",
       "      <td>foo</td>\n",
       "      <td>one</td>\n",
       "      <td>0.950234</td>\n",
       "      <td>-1.071774</td>\n",
       "    </tr>\n",
       "    <tr>\n",
       "      <td>7</td>\n",
       "      <td>foo</td>\n",
       "      <td>three</td>\n",
       "      <td>-0.594098</td>\n",
       "      <td>1.129727</td>\n",
       "    </tr>\n",
       "  </tbody>\n",
       "</table>\n",
       "</div>"
      ],
      "text/plain": [
       "     A      B         C         D\n",
       "0  foo    one  1.818608  0.363804\n",
       "1  bar    one  0.485559 -0.066827\n",
       "2  foo    two -0.665980  0.793089\n",
       "3  bar  three -0.440829 -1.514183\n",
       "4  foo    two  0.442421  0.845409\n",
       "5  bar    two -0.666253 -0.843824\n",
       "6  foo    one  0.950234 -1.071774\n",
       "7  foo  three -0.594098  1.129727"
      ]
     },
     "execution_count": 84,
     "metadata": {},
     "output_type": "execute_result"
    }
   ],
   "source": [
    "df = pd.DataFrame({'A': ['foo', 'bar', 'foo', 'bar',\n",
    "                            'foo', 'bar', 'foo', 'foo'],\n",
    "                'B': ['one', 'one', 'two', 'three',\n",
    "                             'two', 'two', 'one', 'three'],\n",
    "                'C': np.random.randn(8),\n",
    "                'D': np.random.randn(8)})\n",
    "df"
   ]
  },
  {
   "cell_type": "code",
   "execution_count": 86,
   "metadata": {},
   "outputs": [
    {
     "data": {
      "text/html": [
       "<div>\n",
       "<style scoped>\n",
       "    .dataframe tbody tr th:only-of-type {\n",
       "        vertical-align: middle;\n",
       "    }\n",
       "\n",
       "    .dataframe tbody tr th {\n",
       "        vertical-align: top;\n",
       "    }\n",
       "\n",
       "    .dataframe thead th {\n",
       "        text-align: right;\n",
       "    }\n",
       "</style>\n",
       "<table border=\"1\" class=\"dataframe\">\n",
       "  <thead>\n",
       "    <tr style=\"text-align: right;\">\n",
       "      <th></th>\n",
       "      <th>C</th>\n",
       "      <th>D</th>\n",
       "    </tr>\n",
       "    <tr>\n",
       "      <th>B</th>\n",
       "      <th></th>\n",
       "      <th></th>\n",
       "    </tr>\n",
       "  </thead>\n",
       "  <tbody>\n",
       "    <tr>\n",
       "      <td>one</td>\n",
       "      <td>3.254401</td>\n",
       "      <td>-0.774797</td>\n",
       "    </tr>\n",
       "    <tr>\n",
       "      <td>three</td>\n",
       "      <td>-1.034927</td>\n",
       "      <td>-0.384456</td>\n",
       "    </tr>\n",
       "    <tr>\n",
       "      <td>two</td>\n",
       "      <td>-0.889812</td>\n",
       "      <td>0.794674</td>\n",
       "    </tr>\n",
       "  </tbody>\n",
       "</table>\n",
       "</div>"
      ],
      "text/plain": [
       "              C         D\n",
       "B                        \n",
       "one    3.254401 -0.774797\n",
       "three -1.034927 -0.384456\n",
       "two   -0.889812  0.794674"
      ]
     },
     "execution_count": 86,
     "metadata": {},
     "output_type": "execute_result"
    }
   ],
   "source": [
    "# Grouping and then applying the sum() function to the resulting groups\n",
    "df.groupby('B').sum()"
   ]
  },
  {
   "cell_type": "code",
   "execution_count": 87,
   "metadata": {},
   "outputs": [
    {
     "data": {
      "text/html": [
       "<div>\n",
       "<style scoped>\n",
       "    .dataframe tbody tr th:only-of-type {\n",
       "        vertical-align: middle;\n",
       "    }\n",
       "\n",
       "    .dataframe tbody tr th {\n",
       "        vertical-align: top;\n",
       "    }\n",
       "\n",
       "    .dataframe thead th {\n",
       "        text-align: right;\n",
       "    }\n",
       "</style>\n",
       "<table border=\"1\" class=\"dataframe\">\n",
       "  <thead>\n",
       "    <tr style=\"text-align: right;\">\n",
       "      <th></th>\n",
       "      <th></th>\n",
       "      <th>C</th>\n",
       "      <th>D</th>\n",
       "    </tr>\n",
       "    <tr>\n",
       "      <th>A</th>\n",
       "      <th>B</th>\n",
       "      <th></th>\n",
       "      <th></th>\n",
       "    </tr>\n",
       "  </thead>\n",
       "  <tbody>\n",
       "    <tr>\n",
       "      <td rowspan=\"3\" valign=\"top\">bar</td>\n",
       "      <td>one</td>\n",
       "      <td>0.485559</td>\n",
       "      <td>-0.066827</td>\n",
       "    </tr>\n",
       "    <tr>\n",
       "      <td>three</td>\n",
       "      <td>-0.440829</td>\n",
       "      <td>-1.514183</td>\n",
       "    </tr>\n",
       "    <tr>\n",
       "      <td>two</td>\n",
       "      <td>-0.666253</td>\n",
       "      <td>-0.843824</td>\n",
       "    </tr>\n",
       "    <tr>\n",
       "      <td rowspan=\"3\" valign=\"top\">foo</td>\n",
       "      <td>one</td>\n",
       "      <td>2.768842</td>\n",
       "      <td>-0.707970</td>\n",
       "    </tr>\n",
       "    <tr>\n",
       "      <td>three</td>\n",
       "      <td>-0.594098</td>\n",
       "      <td>1.129727</td>\n",
       "    </tr>\n",
       "    <tr>\n",
       "      <td>two</td>\n",
       "      <td>-0.223560</td>\n",
       "      <td>1.638498</td>\n",
       "    </tr>\n",
       "  </tbody>\n",
       "</table>\n",
       "</div>"
      ],
      "text/plain": [
       "                  C         D\n",
       "A   B                        \n",
       "bar one    0.485559 -0.066827\n",
       "    three -0.440829 -1.514183\n",
       "    two   -0.666253 -0.843824\n",
       "foo one    2.768842 -0.707970\n",
       "    three -0.594098  1.129727\n",
       "    two   -0.223560  1.638498"
      ]
     },
     "execution_count": 87,
     "metadata": {},
     "output_type": "execute_result"
    }
   ],
   "source": [
    "# Grouping by multiple columns forms a hierarchical index, and again we can apply the sum function\n",
    "df.groupby(['A', 'B']).sum()"
   ]
  },
  {
   "cell_type": "markdown",
   "metadata": {},
   "source": [
    "## Reshaping\n"
   ]
  },
  {
   "cell_type": "markdown",
   "metadata": {},
   "source": [
    "### Stack"
   ]
  },
  {
   "cell_type": "code",
   "execution_count": 99,
   "metadata": {},
   "outputs": [
    {
     "data": {
      "text/html": [
       "<div>\n",
       "<style scoped>\n",
       "    .dataframe tbody tr th:only-of-type {\n",
       "        vertical-align: middle;\n",
       "    }\n",
       "\n",
       "    .dataframe tbody tr th {\n",
       "        vertical-align: top;\n",
       "    }\n",
       "\n",
       "    .dataframe thead th {\n",
       "        text-align: right;\n",
       "    }\n",
       "</style>\n",
       "<table border=\"1\" class=\"dataframe\">\n",
       "  <thead>\n",
       "    <tr style=\"text-align: right;\">\n",
       "      <th></th>\n",
       "      <th></th>\n",
       "      <th>A</th>\n",
       "      <th>B</th>\n",
       "    </tr>\n",
       "    <tr>\n",
       "      <th>first</th>\n",
       "      <th>second</th>\n",
       "      <th></th>\n",
       "      <th></th>\n",
       "    </tr>\n",
       "  </thead>\n",
       "  <tbody>\n",
       "    <tr>\n",
       "      <td rowspan=\"2\" valign=\"top\">bar</td>\n",
       "      <td>one</td>\n",
       "      <td>0.977035</td>\n",
       "      <td>0.152653</td>\n",
       "    </tr>\n",
       "    <tr>\n",
       "      <td>two</td>\n",
       "      <td>-0.803721</td>\n",
       "      <td>-1.173811</td>\n",
       "    </tr>\n",
       "    <tr>\n",
       "      <td rowspan=\"2\" valign=\"top\">baz</td>\n",
       "      <td>one</td>\n",
       "      <td>-0.831696</td>\n",
       "      <td>-1.095789</td>\n",
       "    </tr>\n",
       "    <tr>\n",
       "      <td>two</td>\n",
       "      <td>-0.316915</td>\n",
       "      <td>0.320276</td>\n",
       "    </tr>\n",
       "  </tbody>\n",
       "</table>\n",
       "</div>"
      ],
      "text/plain": [
       "                     A         B\n",
       "first second                    \n",
       "bar   one     0.977035  0.152653\n",
       "      two    -0.803721 -1.173811\n",
       "baz   one    -0.831696 -1.095789\n",
       "      two    -0.316915  0.320276"
      ]
     },
     "execution_count": 99,
     "metadata": {},
     "output_type": "execute_result"
    }
   ],
   "source": [
    "In [95]: tuples = list(zip(*[['bar', 'bar', 'baz', 'baz',\n",
    "                         'foo', 'foo', 'qux', 'qux'],\n",
    "                        ['one', 'two', 'one', 'two',\n",
    "                         'one', 'two', 'one', 'two']]))\n",
    "   \n",
    "index = pd.MultiIndex.from_tuples(tuples, names=['first', 'second'])\n",
    "\n",
    "df = pd.DataFrame(np.random.randn(8, 2), index=index, columns=['A', 'B'])\n",
    "\n",
    "df2 = df[:4]\n",
    "\n",
    "df2"
   ]
  },
  {
   "cell_type": "code",
   "execution_count": 100,
   "metadata": {},
   "outputs": [
    {
     "data": {
      "text/plain": [
       "first  second   \n",
       "bar    one     A    0.977035\n",
       "               B    0.152653\n",
       "       two     A   -0.803721\n",
       "               B   -1.173811\n",
       "baz    one     A   -0.831696\n",
       "               B   -1.095789\n",
       "       two     A   -0.316915\n",
       "               B    0.320276\n",
       "dtype: float64"
      ]
     },
     "execution_count": 100,
     "metadata": {},
     "output_type": "execute_result"
    }
   ],
   "source": [
    "stacked = df2.stack()\n",
    "stacked"
   ]
  },
  {
   "cell_type": "markdown",
   "metadata": {},
   "source": [
    "With a \"stacked\" DataFrame or Series (having a multiindex as the index), the inverse operation of stack() is unstack(), which by default unstacks the last level\n"
   ]
  },
  {
   "cell_type": "code",
   "execution_count": 101,
   "metadata": {},
   "outputs": [
    {
     "data": {
      "text/html": [
       "<div>\n",
       "<style scoped>\n",
       "    .dataframe tbody tr th:only-of-type {\n",
       "        vertical-align: middle;\n",
       "    }\n",
       "\n",
       "    .dataframe tbody tr th {\n",
       "        vertical-align: top;\n",
       "    }\n",
       "\n",
       "    .dataframe thead th {\n",
       "        text-align: right;\n",
       "    }\n",
       "</style>\n",
       "<table border=\"1\" class=\"dataframe\">\n",
       "  <thead>\n",
       "    <tr style=\"text-align: right;\">\n",
       "      <th></th>\n",
       "      <th></th>\n",
       "      <th>A</th>\n",
       "      <th>B</th>\n",
       "    </tr>\n",
       "    <tr>\n",
       "      <th>first</th>\n",
       "      <th>second</th>\n",
       "      <th></th>\n",
       "      <th></th>\n",
       "    </tr>\n",
       "  </thead>\n",
       "  <tbody>\n",
       "    <tr>\n",
       "      <td rowspan=\"2\" valign=\"top\">bar</td>\n",
       "      <td>one</td>\n",
       "      <td>0.977035</td>\n",
       "      <td>0.152653</td>\n",
       "    </tr>\n",
       "    <tr>\n",
       "      <td>two</td>\n",
       "      <td>-0.803721</td>\n",
       "      <td>-1.173811</td>\n",
       "    </tr>\n",
       "    <tr>\n",
       "      <td rowspan=\"2\" valign=\"top\">baz</td>\n",
       "      <td>one</td>\n",
       "      <td>-0.831696</td>\n",
       "      <td>-1.095789</td>\n",
       "    </tr>\n",
       "    <tr>\n",
       "      <td>two</td>\n",
       "      <td>-0.316915</td>\n",
       "      <td>0.320276</td>\n",
       "    </tr>\n",
       "  </tbody>\n",
       "</table>\n",
       "</div>"
      ],
      "text/plain": [
       "                     A         B\n",
       "first second                    \n",
       "bar   one     0.977035  0.152653\n",
       "      two    -0.803721 -1.173811\n",
       "baz   one    -0.831696 -1.095789\n",
       "      two    -0.316915  0.320276"
      ]
     },
     "execution_count": 101,
     "metadata": {},
     "output_type": "execute_result"
    }
   ],
   "source": [
    "stacked.unstack()"
   ]
  },
  {
   "cell_type": "code",
   "execution_count": 102,
   "metadata": {},
   "outputs": [
    {
     "data": {
      "text/html": [
       "<div>\n",
       "<style scoped>\n",
       "    .dataframe tbody tr th:only-of-type {\n",
       "        vertical-align: middle;\n",
       "    }\n",
       "\n",
       "    .dataframe tbody tr th {\n",
       "        vertical-align: top;\n",
       "    }\n",
       "\n",
       "    .dataframe thead th {\n",
       "        text-align: right;\n",
       "    }\n",
       "</style>\n",
       "<table border=\"1\" class=\"dataframe\">\n",
       "  <thead>\n",
       "    <tr style=\"text-align: right;\">\n",
       "      <th></th>\n",
       "      <th>second</th>\n",
       "      <th>one</th>\n",
       "      <th>two</th>\n",
       "    </tr>\n",
       "    <tr>\n",
       "      <th>first</th>\n",
       "      <th></th>\n",
       "      <th></th>\n",
       "      <th></th>\n",
       "    </tr>\n",
       "  </thead>\n",
       "  <tbody>\n",
       "    <tr>\n",
       "      <td rowspan=\"2\" valign=\"top\">bar</td>\n",
       "      <td>A</td>\n",
       "      <td>0.977035</td>\n",
       "      <td>-0.803721</td>\n",
       "    </tr>\n",
       "    <tr>\n",
       "      <td>B</td>\n",
       "      <td>0.152653</td>\n",
       "      <td>-1.173811</td>\n",
       "    </tr>\n",
       "    <tr>\n",
       "      <td rowspan=\"2\" valign=\"top\">baz</td>\n",
       "      <td>A</td>\n",
       "      <td>-0.831696</td>\n",
       "      <td>-0.316915</td>\n",
       "    </tr>\n",
       "    <tr>\n",
       "      <td>B</td>\n",
       "      <td>-1.095789</td>\n",
       "      <td>0.320276</td>\n",
       "    </tr>\n",
       "  </tbody>\n",
       "</table>\n",
       "</div>"
      ],
      "text/plain": [
       "second        one       two\n",
       "first                      \n",
       "bar   A  0.977035 -0.803721\n",
       "      B  0.152653 -1.173811\n",
       "baz   A -0.831696 -0.316915\n",
       "      B -1.095789  0.320276"
      ]
     },
     "execution_count": 102,
     "metadata": {},
     "output_type": "execute_result"
    }
   ],
   "source": [
    "stacked.unstack(1)"
   ]
  },
  {
   "cell_type": "code",
   "execution_count": 103,
   "metadata": {},
   "outputs": [
    {
     "data": {
      "text/html": [
       "<div>\n",
       "<style scoped>\n",
       "    .dataframe tbody tr th:only-of-type {\n",
       "        vertical-align: middle;\n",
       "    }\n",
       "\n",
       "    .dataframe tbody tr th {\n",
       "        vertical-align: top;\n",
       "    }\n",
       "\n",
       "    .dataframe thead th {\n",
       "        text-align: right;\n",
       "    }\n",
       "</style>\n",
       "<table border=\"1\" class=\"dataframe\">\n",
       "  <thead>\n",
       "    <tr style=\"text-align: right;\">\n",
       "      <th></th>\n",
       "      <th>first</th>\n",
       "      <th>bar</th>\n",
       "      <th>baz</th>\n",
       "    </tr>\n",
       "    <tr>\n",
       "      <th>second</th>\n",
       "      <th></th>\n",
       "      <th></th>\n",
       "      <th></th>\n",
       "    </tr>\n",
       "  </thead>\n",
       "  <tbody>\n",
       "    <tr>\n",
       "      <td rowspan=\"2\" valign=\"top\">one</td>\n",
       "      <td>A</td>\n",
       "      <td>0.977035</td>\n",
       "      <td>-0.831696</td>\n",
       "    </tr>\n",
       "    <tr>\n",
       "      <td>B</td>\n",
       "      <td>0.152653</td>\n",
       "      <td>-1.095789</td>\n",
       "    </tr>\n",
       "    <tr>\n",
       "      <td rowspan=\"2\" valign=\"top\">two</td>\n",
       "      <td>A</td>\n",
       "      <td>-0.803721</td>\n",
       "      <td>-0.316915</td>\n",
       "    </tr>\n",
       "    <tr>\n",
       "      <td>B</td>\n",
       "      <td>-1.173811</td>\n",
       "      <td>0.320276</td>\n",
       "    </tr>\n",
       "  </tbody>\n",
       "</table>\n",
       "</div>"
      ],
      "text/plain": [
       "first          bar       baz\n",
       "second                      \n",
       "one    A  0.977035 -0.831696\n",
       "       B  0.152653 -1.095789\n",
       "two    A -0.803721 -0.316915\n",
       "       B -1.173811  0.320276"
      ]
     },
     "execution_count": 103,
     "metadata": {},
     "output_type": "execute_result"
    }
   ],
   "source": [
    "stacked.unstack(0)"
   ]
  },
  {
   "cell_type": "markdown",
   "metadata": {},
   "source": [
    "## Pivot tables"
   ]
  },
  {
   "cell_type": "code",
   "execution_count": 105,
   "metadata": {},
   "outputs": [
    {
     "data": {
      "text/html": [
       "<div>\n",
       "<style scoped>\n",
       "    .dataframe tbody tr th:only-of-type {\n",
       "        vertical-align: middle;\n",
       "    }\n",
       "\n",
       "    .dataframe tbody tr th {\n",
       "        vertical-align: top;\n",
       "    }\n",
       "\n",
       "    .dataframe thead th {\n",
       "        text-align: right;\n",
       "    }\n",
       "</style>\n",
       "<table border=\"1\" class=\"dataframe\">\n",
       "  <thead>\n",
       "    <tr style=\"text-align: right;\">\n",
       "      <th></th>\n",
       "      <th>A</th>\n",
       "      <th>B</th>\n",
       "      <th>C</th>\n",
       "      <th>D</th>\n",
       "      <th>E</th>\n",
       "    </tr>\n",
       "  </thead>\n",
       "  <tbody>\n",
       "    <tr>\n",
       "      <td>0</td>\n",
       "      <td>one</td>\n",
       "      <td>A</td>\n",
       "      <td>foo</td>\n",
       "      <td>0.506424</td>\n",
       "      <td>-1.324525</td>\n",
       "    </tr>\n",
       "    <tr>\n",
       "      <td>1</td>\n",
       "      <td>one</td>\n",
       "      <td>B</td>\n",
       "      <td>foo</td>\n",
       "      <td>0.609881</td>\n",
       "      <td>-2.147903</td>\n",
       "    </tr>\n",
       "    <tr>\n",
       "      <td>2</td>\n",
       "      <td>two</td>\n",
       "      <td>C</td>\n",
       "      <td>foo</td>\n",
       "      <td>0.050066</td>\n",
       "      <td>-1.177561</td>\n",
       "    </tr>\n",
       "    <tr>\n",
       "      <td>3</td>\n",
       "      <td>three</td>\n",
       "      <td>A</td>\n",
       "      <td>bar</td>\n",
       "      <td>0.323525</td>\n",
       "      <td>-0.125502</td>\n",
       "    </tr>\n",
       "    <tr>\n",
       "      <td>4</td>\n",
       "      <td>one</td>\n",
       "      <td>B</td>\n",
       "      <td>bar</td>\n",
       "      <td>-0.471168</td>\n",
       "      <td>0.653515</td>\n",
       "    </tr>\n",
       "    <tr>\n",
       "      <td>5</td>\n",
       "      <td>one</td>\n",
       "      <td>C</td>\n",
       "      <td>bar</td>\n",
       "      <td>-1.097881</td>\n",
       "      <td>0.531356</td>\n",
       "    </tr>\n",
       "    <tr>\n",
       "      <td>6</td>\n",
       "      <td>two</td>\n",
       "      <td>A</td>\n",
       "      <td>foo</td>\n",
       "      <td>-0.555523</td>\n",
       "      <td>-1.325852</td>\n",
       "    </tr>\n",
       "    <tr>\n",
       "      <td>7</td>\n",
       "      <td>three</td>\n",
       "      <td>B</td>\n",
       "      <td>foo</td>\n",
       "      <td>-0.078503</td>\n",
       "      <td>-0.334422</td>\n",
       "    </tr>\n",
       "    <tr>\n",
       "      <td>8</td>\n",
       "      <td>one</td>\n",
       "      <td>C</td>\n",
       "      <td>foo</td>\n",
       "      <td>-1.256811</td>\n",
       "      <td>0.984980</td>\n",
       "    </tr>\n",
       "    <tr>\n",
       "      <td>9</td>\n",
       "      <td>one</td>\n",
       "      <td>A</td>\n",
       "      <td>bar</td>\n",
       "      <td>0.688050</td>\n",
       "      <td>-0.638468</td>\n",
       "    </tr>\n",
       "    <tr>\n",
       "      <td>10</td>\n",
       "      <td>two</td>\n",
       "      <td>B</td>\n",
       "      <td>bar</td>\n",
       "      <td>-2.002215</td>\n",
       "      <td>1.004297</td>\n",
       "    </tr>\n",
       "    <tr>\n",
       "      <td>11</td>\n",
       "      <td>three</td>\n",
       "      <td>C</td>\n",
       "      <td>bar</td>\n",
       "      <td>-0.994158</td>\n",
       "      <td>-0.346098</td>\n",
       "    </tr>\n",
       "  </tbody>\n",
       "</table>\n",
       "</div>"
      ],
      "text/plain": [
       "        A  B    C         D         E\n",
       "0     one  A  foo  0.506424 -1.324525\n",
       "1     one  B  foo  0.609881 -2.147903\n",
       "2     two  C  foo  0.050066 -1.177561\n",
       "3   three  A  bar  0.323525 -0.125502\n",
       "4     one  B  bar -0.471168  0.653515\n",
       "5     one  C  bar -1.097881  0.531356\n",
       "6     two  A  foo -0.555523 -1.325852\n",
       "7   three  B  foo -0.078503 -0.334422\n",
       "8     one  C  foo -1.256811  0.984980\n",
       "9     one  A  bar  0.688050 -0.638468\n",
       "10    two  B  bar -2.002215  1.004297\n",
       "11  three  C  bar -0.994158 -0.346098"
      ]
     },
     "execution_count": 105,
     "metadata": {},
     "output_type": "execute_result"
    }
   ],
   "source": [
    "df = pd.DataFrame({\n",
    "    'A': ['one', 'one', 'two', 'three'] * 3,\n",
    "    'B': ['A', 'B', 'C'] * 4,\n",
    "    'C': ['foo', 'foo', 'foo', 'bar', 'bar', 'bar'] * 2,\n",
    "    'D': np.random.randn(12),\n",
    "    'E': np.random.randn(12)\n",
    "})\n",
    "df"
   ]
  },
  {
   "cell_type": "code",
   "execution_count": 107,
   "metadata": {},
   "outputs": [
    {
     "data": {
      "text/html": [
       "<div>\n",
       "<style scoped>\n",
       "    .dataframe tbody tr th:only-of-type {\n",
       "        vertical-align: middle;\n",
       "    }\n",
       "\n",
       "    .dataframe tbody tr th {\n",
       "        vertical-align: top;\n",
       "    }\n",
       "\n",
       "    .dataframe thead th {\n",
       "        text-align: right;\n",
       "    }\n",
       "</style>\n",
       "<table border=\"1\" class=\"dataframe\">\n",
       "  <thead>\n",
       "    <tr style=\"text-align: right;\">\n",
       "      <th></th>\n",
       "      <th>C</th>\n",
       "      <th>bar</th>\n",
       "      <th>foo</th>\n",
       "    </tr>\n",
       "    <tr>\n",
       "      <th>A</th>\n",
       "      <th>B</th>\n",
       "      <th></th>\n",
       "      <th></th>\n",
       "    </tr>\n",
       "  </thead>\n",
       "  <tbody>\n",
       "    <tr>\n",
       "      <td rowspan=\"3\" valign=\"top\">one</td>\n",
       "      <td>A</td>\n",
       "      <td>0.688050</td>\n",
       "      <td>0.506424</td>\n",
       "    </tr>\n",
       "    <tr>\n",
       "      <td>B</td>\n",
       "      <td>-0.471168</td>\n",
       "      <td>0.609881</td>\n",
       "    </tr>\n",
       "    <tr>\n",
       "      <td>C</td>\n",
       "      <td>-1.097881</td>\n",
       "      <td>-1.256811</td>\n",
       "    </tr>\n",
       "    <tr>\n",
       "      <td rowspan=\"3\" valign=\"top\">three</td>\n",
       "      <td>A</td>\n",
       "      <td>0.323525</td>\n",
       "      <td>NaN</td>\n",
       "    </tr>\n",
       "    <tr>\n",
       "      <td>B</td>\n",
       "      <td>NaN</td>\n",
       "      <td>-0.078503</td>\n",
       "    </tr>\n",
       "    <tr>\n",
       "      <td>C</td>\n",
       "      <td>-0.994158</td>\n",
       "      <td>NaN</td>\n",
       "    </tr>\n",
       "    <tr>\n",
       "      <td rowspan=\"3\" valign=\"top\">two</td>\n",
       "      <td>A</td>\n",
       "      <td>NaN</td>\n",
       "      <td>-0.555523</td>\n",
       "    </tr>\n",
       "    <tr>\n",
       "      <td>B</td>\n",
       "      <td>-2.002215</td>\n",
       "      <td>NaN</td>\n",
       "    </tr>\n",
       "    <tr>\n",
       "      <td>C</td>\n",
       "      <td>NaN</td>\n",
       "      <td>0.050066</td>\n",
       "    </tr>\n",
       "  </tbody>\n",
       "</table>\n",
       "</div>"
      ],
      "text/plain": [
       "C             bar       foo\n",
       "A     B                    \n",
       "one   A  0.688050  0.506424\n",
       "      B -0.471168  0.609881\n",
       "      C -1.097881 -1.256811\n",
       "three A  0.323525       NaN\n",
       "      B       NaN -0.078503\n",
       "      C -0.994158       NaN\n",
       "two   A       NaN -0.555523\n",
       "      B -2.002215       NaN\n",
       "      C       NaN  0.050066"
      ]
     },
     "execution_count": 107,
     "metadata": {},
     "output_type": "execute_result"
    }
   ],
   "source": [
    "# We can produce pivot tables from this data very easily\n",
    "pd.pivot_table(df, values='D', index=['A', 'B'], columns=['C'])\n"
   ]
  },
  {
   "cell_type": "markdown",
   "metadata": {},
   "source": [
    "## Time series\n",
    "\n",
    "pandas has simple, powerful, and efficient functionality for performing resampling operations during frequency conversion (e.g., converting secondly data into 5-minutely data). This is extremely common in, but not limited to, financial applications."
   ]
  },
  {
   "cell_type": "code",
   "execution_count": 108,
   "metadata": {},
   "outputs": [
    {
     "data": {
      "text/plain": [
       "2012-01-01    25971\n",
       "Freq: 5T, dtype: int64"
      ]
     },
     "execution_count": 108,
     "metadata": {},
     "output_type": "execute_result"
    }
   ],
   "source": [
    "rng = pd.date_range('1/1/2012', periods=100, freq='S')\n",
    "ts = pd.Series(np.random.randint(0, 500, len(rng)), index = rng)\n",
    "ts.resample('5Min').sum()"
   ]
  },
  {
   "cell_type": "code",
   "execution_count": 109,
   "metadata": {},
   "outputs": [],
   "source": [
    "# Time zone representation\n",
    "rng = pd.date_range('3/6/2012 00:00', periods=5, freq='D')\n",
    "ts = pd.Series(np.random.randn(len(rng)), rng)"
   ]
  },
  {
   "cell_type": "code",
   "execution_count": 110,
   "metadata": {},
   "outputs": [
    {
     "data": {
      "text/plain": [
       "2012-03-06    2.345723\n",
       "2012-03-07   -0.066743\n",
       "2012-03-08   -0.615279\n",
       "2012-03-09   -0.886068\n",
       "2012-03-10    0.301439\n",
       "Freq: D, dtype: float64"
      ]
     },
     "execution_count": 110,
     "metadata": {},
     "output_type": "execute_result"
    }
   ],
   "source": [
    "ts"
   ]
  },
  {
   "cell_type": "code",
   "execution_count": 111,
   "metadata": {},
   "outputs": [
    {
     "data": {
      "text/plain": [
       "2012-03-06 00:00:00+00:00    2.345723\n",
       "2012-03-07 00:00:00+00:00   -0.066743\n",
       "2012-03-08 00:00:00+00:00   -0.615279\n",
       "2012-03-09 00:00:00+00:00   -0.886068\n",
       "2012-03-10 00:00:00+00:00    0.301439\n",
       "Freq: D, dtype: float64"
      ]
     },
     "execution_count": 111,
     "metadata": {},
     "output_type": "execute_result"
    }
   ],
   "source": [
    "ts_utc = ts.tz_localize('UTC')\n",
    "ts_utc"
   ]
  },
  {
   "cell_type": "code",
   "execution_count": 112,
   "metadata": {},
   "outputs": [
    {
     "data": {
      "text/plain": [
       "2012-03-05 19:00:00-05:00    2.345723\n",
       "2012-03-06 19:00:00-05:00   -0.066743\n",
       "2012-03-07 19:00:00-05:00   -0.615279\n",
       "2012-03-08 19:00:00-05:00   -0.886068\n",
       "2012-03-09 19:00:00-05:00    0.301439\n",
       "Freq: D, dtype: float64"
      ]
     },
     "execution_count": 112,
     "metadata": {},
     "output_type": "execute_result"
    }
   ],
   "source": [
    "# Converting to another time zone\n",
    "ts_utc.tz_convert('US/Eastern')"
   ]
  },
  {
   "cell_type": "markdown",
   "metadata": {},
   "source": [
    "## Plotting"
   ]
  },
  {
   "cell_type": "code",
   "execution_count": 115,
   "metadata": {},
   "outputs": [
    {
     "data": {
      "text/plain": [
       "<matplotlib.axes._subplots.AxesSubplot at 0x122f6e610>"
      ]
     },
     "execution_count": 115,
     "metadata": {},
     "output_type": "execute_result"
    },
    {
     "data": {
      "image/png": "[encoded data removed]",
      "text/plain": [
       "<Figure size 432x288 with 1 Axes>"
      ]
     },
     "metadata": {
      "needs_background": "light"
     },
     "output_type": "display_data"
    }
   ],
   "source": [
    "ts = pd.Series(np.random.randn(1000),\n",
    "                        index=pd.date_range('1/1/2000', periods=1000))\n",
    "ts = ts.cumsum()\n",
    "ts.plot()\n"
   ]
  },
  {
   "cell_type": "code",
   "execution_count": 117,
   "metadata": {},
   "outputs": [
    {
     "data": {
      "text/plain": [
       "<matplotlib.legend.Legend at 0x123041190>"
      ]
     },
     "execution_count": 117,
     "metadata": {},
     "output_type": "execute_result"
    },
    {
     "data": {
      "text/plain": [
       "<Figure size 432x288 with 0 Axes>"
      ]
     },
     "metadata": {},
     "output_type": "display_data"
    },
    {
     "data": {
      "image/png": "[encoded data removed]",
      "text/plain": [
       "<Figure size 432x288 with 1 Axes>"
      ]
     },
     "metadata": {
      "needs_background": "light"
     },
     "output_type": "display_data"
    }
   ],
   "source": [
    "import matplotlib.pyplot as plt\n",
    "# On a DataFrame, the plots() method is a convenience to plot all of the columns with labels\n",
    "df = pd.DataFrame(np.random.randn(1000, 4), index=ts.index,\n",
    "                 columns=['A', 'B', 'C', 'D'])\n",
    "df = df.cumsum()\n",
    "plt.figure()\n",
    "df.plot()\n",
    "plt.legend(loc='best')"
   ]
  },
  {
   "cell_type": "code",
   "execution_count": 6,
   "metadata": {},
   "outputs": [
    {
     "data": {
      "text/html": [
       "<div>\n",
       "<style scoped>\n",
       "    .dataframe tbody tr th:only-of-type {\n",
       "        vertical-align: middle;\n",
       "    }\n",
       "\n",
       "    .dataframe tbody tr th {\n",
       "        vertical-align: top;\n",
       "    }\n",
       "\n",
       "    .dataframe thead th {\n",
       "        text-align: right;\n",
       "    }\n",
       "</style>\n",
       "<table border=\"1\" class=\"dataframe\">\n",
       "  <thead>\n",
       "    <tr style=\"text-align: right;\">\n",
       "      <th></th>\n",
       "      <th>Curvature</th>\n",
       "      <th>Diameter</th>\n",
       "      <th>QC</th>\n",
       "    </tr>\n",
       "  </thead>\n",
       "  <tbody>\n",
       "    <tr>\n",
       "      <td>0</td>\n",
       "      <td>2.95</td>\n",
       "      <td>6.63</td>\n",
       "      <td>passed</td>\n",
       "    </tr>\n",
       "    <tr>\n",
       "      <td>1</td>\n",
       "      <td>2.53</td>\n",
       "      <td>7.79</td>\n",
       "      <td>passed</td>\n",
       "    </tr>\n",
       "    <tr>\n",
       "      <td>2</td>\n",
       "      <td>3.57</td>\n",
       "      <td>5.65</td>\n",
       "      <td>passed</td>\n",
       "    </tr>\n",
       "    <tr>\n",
       "      <td>3</td>\n",
       "      <td>3.57</td>\n",
       "      <td>5.45</td>\n",
       "      <td>passed</td>\n",
       "    </tr>\n",
       "    <tr>\n",
       "      <td>4</td>\n",
       "      <td>3.16</td>\n",
       "      <td>4.46</td>\n",
       "      <td>not_passed</td>\n",
       "    </tr>\n",
       "  </tbody>\n",
       "</table>\n",
       "</div>"
      ],
      "text/plain": [
       "   Curvature  Diameter          QC\n",
       "0       2.95      6.63      passed\n",
       "1       2.53      7.79      passed\n",
       "2       3.57      5.65      passed\n",
       "3       3.57      5.45      passed\n",
       "4       3.16      4.46  not_passed"
      ]
     },
     "execution_count": 6,
     "metadata": {},
     "output_type": "execute_result"
    }
   ],
   "source": [
    "# Read data dari csv\n",
    "data = pd.read_csv(\"data_training.csv\")\n",
    "data.head()"
   ]
  },
  {
   "cell_type": "code",
   "execution_count": 23,
   "metadata": {},
   "outputs": [
    {
     "data": {
      "text/html": [
       "<div>\n",
       "<style scoped>\n",
       "    .dataframe tbody tr th:only-of-type {\n",
       "        vertical-align: middle;\n",
       "    }\n",
       "\n",
       "    .dataframe tbody tr th {\n",
       "        vertical-align: top;\n",
       "    }\n",
       "\n",
       "    .dataframe thead th {\n",
       "        text-align: right;\n",
       "    }\n",
       "</style>\n",
       "<table border=\"1\" class=\"dataframe\">\n",
       "  <thead>\n",
       "    <tr style=\"text-align: right;\">\n",
       "      <th></th>\n",
       "      <th>Curvature</th>\n",
       "      <th>Diameter</th>\n",
       "    </tr>\n",
       "  </thead>\n",
       "  <tbody>\n",
       "    <tr>\n",
       "      <td>count</td>\n",
       "      <td>7.000000</td>\n",
       "      <td>7.000000</td>\n",
       "    </tr>\n",
       "    <tr>\n",
       "      <td>mean</td>\n",
       "      <td>2.931429</td>\n",
       "      <td>5.674286</td>\n",
       "    </tr>\n",
       "    <tr>\n",
       "      <td>std</td>\n",
       "      <td>0.539735</td>\n",
       "      <td>1.405571</td>\n",
       "    </tr>\n",
       "    <tr>\n",
       "      <td>min</td>\n",
       "      <td>2.160000</td>\n",
       "      <td>3.520000</td>\n",
       "    </tr>\n",
       "    <tr>\n",
       "      <td>25%</td>\n",
       "      <td>2.555000</td>\n",
       "      <td>4.955000</td>\n",
       "    </tr>\n",
       "    <tr>\n",
       "      <td>50%</td>\n",
       "      <td>2.950000</td>\n",
       "      <td>5.650000</td>\n",
       "    </tr>\n",
       "    <tr>\n",
       "      <td>75%</td>\n",
       "      <td>3.365000</td>\n",
       "      <td>6.425000</td>\n",
       "    </tr>\n",
       "    <tr>\n",
       "      <td>max</td>\n",
       "      <td>3.570000</td>\n",
       "      <td>7.790000</td>\n",
       "    </tr>\n",
       "  </tbody>\n",
       "</table>\n",
       "</div>"
      ],
      "text/plain": [
       "       Curvature  Diameter\n",
       "count   7.000000  7.000000\n",
       "mean    2.931429  5.674286\n",
       "std     0.539735  1.405571\n",
       "min     2.160000  3.520000\n",
       "25%     2.555000  4.955000\n",
       "50%     2.950000  5.650000\n",
       "75%     3.365000  6.425000\n",
       "max     3.570000  7.790000"
      ]
     },
     "execution_count": 23,
     "metadata": {},
     "output_type": "execute_result"
    }
   ],
   "source": [
    "# describe data\n",
    "data.describe()"
   ]
  },
  {
   "cell_type": "code",
   "execution_count": 15,
   "metadata": {},
   "outputs": [
    {
     "data": {
      "text/plain": [
       "(7, 3)"
      ]
     },
     "execution_count": 15,
     "metadata": {},
     "output_type": "execute_result"
    }
   ],
   "source": [
    "# cek bentuk datanya\n",
    "data.shape"
   ]
  },
  {
   "cell_type": "code",
   "execution_count": 22,
   "metadata": {},
   "outputs": [
    {
     "name": "stdout",
     "output_type": "stream",
     "text": [
      "   curvature  diameter  Quality Control\n",
      "0       2.81      5.46                0\n"
     ]
    }
   ],
   "source": [
    "from sklearn.model_selection import train_test_split\n",
    "from sklearn.metrics import mean_absolute_error\n",
    "from sklearn.naive_bayes import GaussianNB\n",
    "from sklearn import preprocessing\n",
    "\n",
    "# label encoder karena QC nya masih string (harus di ubah ke integer)\n",
    "le = preprocessing.LabelEncoder()\n",
    "\n",
    "# feature ata kolom yang di pakai buat prediksi\n",
    "features = ['Curvature', 'Diameter']\n",
    "\n",
    "x = data[features]\n",
    "y = le.fit_transform(data.QC)\n",
    "\n",
    "# split data\n",
    "train_x, val_x, train_y, val_y = train_test_split(x, y, random_state=1)\n",
    "\n",
    "# Gussian naive bayes\n",
    "model = GaussianNB()\n",
    "# fitting model\n",
    "model.fit(train_x, train_y)\n",
    "# prediction\n",
    "prediction = model.predict(val_x)\n",
    "# cek akurasi (datanya terlalu sedikit ga bisa di cek akurasinya wkwkwk)\n",
    "mae = mean_absolute_error(prediction, val_y)\n",
    "\n",
    "# read tes data\n",
    "test_data = pd.read_csv(\"data_test.csv\")\n",
    "\n",
    "# mengambil kolom sesuai fitur yg di pakai untuk deskribsi\n",
    "test_x = test_data[features]\n",
    "# prediksi\n",
    "test_preds = model.predict(test_x)\n",
    "# output\n",
    "output = pd.DataFrame({'curvature': test_data.Curvature,\n",
    "                      'diameter': test_data.Diameter,\n",
    "                      'Quality Control':test_preds})\n",
    "print(output)\n",
    "\n"
   ]
  },
  {
   "cell_type": "code",
   "execution_count": null,
   "metadata": {},
   "outputs": [],
   "source": []
  }
 ],
 "metadata": {
  "kernelspec": {
   "display_name": "Python 3",
   "language": "python",
   "name": "python3"
  },
  "language_info": {
   "codemirror_mode": {
    "name": "ipython",
    "version": 3
   },
   "file_extension": ".py",
   "mimetype": "text/x-python",
   "name": "python",
   "nbconvert_exporter": "python",
   "pygments_lexer": "ipython3",
   "version": "3.7.0"
  }
 },
 "nbformat": 4,
 "nbformat_minor": 2
}
